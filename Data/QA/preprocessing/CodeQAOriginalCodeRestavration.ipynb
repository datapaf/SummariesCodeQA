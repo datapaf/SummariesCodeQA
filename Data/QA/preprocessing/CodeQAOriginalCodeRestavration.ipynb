{
  "nbformat": 4,
  "nbformat_minor": 0,
  "metadata": {
    "colab": {
      "provenance": []
    },
    "kernelspec": {
      "name": "python3",
      "display_name": "Python 3"
    },
    "language_info": {
      "name": "python"
    }
  },
  "cells": [
    {
      "cell_type": "code",
      "source": [
        "!git clone https://github.com/EdinburghNLP/code-docstring-corpus.git\n",
        "!gzip -d code-docstring-corpus/parallel-corpus/data_ps.declbodies.train.gz"
      ],
      "metadata": {
        "colab": {
          "base_uri": "https://localhost:8080/"
        },
        "id": "oML5umkrNQq6",
        "outputId": "99efef48-073d-49f5-98cc-83adab80b299"
      },
      "execution_count": null,
      "outputs": [
        {
          "output_type": "stream",
          "name": "stdout",
          "text": [
            "Cloning into 'code-docstring-corpus'...\n",
            "remote: Enumerating objects: 357, done.\u001b[K\n",
            "remote: Total 357 (delta 0), reused 0 (delta 0), pack-reused 357\u001b[K\n",
            "Receiving objects: 100% (357/357), 858.21 MiB | 30.33 MiB/s, done.\n",
            "Resolving deltas: 100% (186/186), done.\n",
            "Updating files: 100% (163/163), done.\n"
          ]
        }
      ]
    },
    {
      "cell_type": "code",
      "source": [
        "orig_samples = []\n",
        "\n",
        "with open(\"code-docstring-corpus/parallel-corpus/data_ps.declbodies.train\") as f:\n",
        "    orig_samples += f.readlines()\n",
        "\n",
        "with open(\"code-docstring-corpus/parallel-corpus/data_ps.declbodies.valid\") as f:\n",
        "    orig_samples += f.readlines()\n",
        "\n",
        "with open(\"code-docstring-corpus/parallel-corpus/data_ps.declbodies.test\") as f:\n",
        "    orig_samples += f.readlines()"
      ],
      "metadata": {
        "id": "BSzCkhO1NUri"
      },
      "execution_count": null,
      "outputs": []
    },
    {
      "cell_type": "code",
      "source": [
        "import re\n",
        "\n",
        "def prepare_declbody(declbody):\n",
        "    declbody = re.sub(' +', ' ', declbody)\n",
        "    declbody = re.sub(' DCNL ', '\\n', declbody)\n",
        "    declbody = re.sub('DCSP ', '\\t', declbody)\n",
        "    return declbody\n",
        "\n",
        "def prepare_tokens_for_search(tokens):\n",
        "    merged = \"\".join(tokens)\n",
        "    return re.sub(r'[^a-zA-Z0-9]+', '', merged)\n",
        "\n",
        "def prepare_sample_for_search(sample):\n",
        "    result = re.sub(' DCNL ', '', sample)\n",
        "    result = re.sub('DCSP ', '', result)\n",
        "    result = re.sub(' +', '', result)\n",
        "    return re.sub(r'[^a-zA-Z0-9]+', '', result)"
      ],
      "metadata": {
        "id": "GBcBTwmlM_lq"
      },
      "execution_count": null,
      "outputs": []
    },
    {
      "cell_type": "code",
      "source": [
        "def is_original_of_tokens(tokens, prep_sample):\n",
        "    prep_tokens = prepare_tokens_for_search(tokens)\n",
        "    return prep_tokens == prep_sample\n",
        "\n",
        "# return index of the original sample\n",
        "def find_tokens_original(tokens):\n",
        "    for i, sample in enumerate(prep_samples):\n",
        "        if is_original_of_tokens(tokens, sample):\n",
        "            return i\n",
        "    raise Exception('Tokens original not found')"
      ],
      "metadata": {
        "id": "dNctj5GYNhZ6"
      },
      "execution_count": null,
      "outputs": []
    },
    {
      "cell_type": "code",
      "source": [
        "prep_samples = [prepare_sample_for_search(sample) for sample in orig_samples]"
      ],
      "metadata": {
        "id": "xLLxcko-NKRb"
      },
      "execution_count": null,
      "outputs": []
    },
    {
      "cell_type": "code",
      "source": [
        "prep_samples_dict = {prep_sample: i for i, prep_sample in enumerate(prep_samples)}"
      ],
      "metadata": {
        "id": "RlhO0EiURXoy"
      },
      "execution_count": null,
      "outputs": []
    },
    {
      "cell_type": "code",
      "source": [
        "!unzip drive/MyDrive/UnixCoderQAData.zip"
      ],
      "metadata": {
        "colab": {
          "base_uri": "https://localhost:8080/"
        },
        "id": "7ituOsgdOiYi",
        "outputId": "08dbd560-6e77-4af9-d6a5-763cdabe34f5"
      },
      "execution_count": null,
      "outputs": [
        {
          "output_type": "stream",
          "name": "stdout",
          "text": [
            "Archive:  drive/MyDrive/UnixCoderQAData.zip\n",
            "  inflating: data/train.py.jsonl     \n",
            "  inflating: data/test.py.jsonl      \n",
            "  inflating: data/dev.py.jsonl       \n"
          ]
        }
      ]
    },
    {
      "cell_type": "markdown",
      "source": [
        "# Train data"
      ],
      "metadata": {
        "id": "5BQPGCu8V7Zy"
      }
    },
    {
      "cell_type": "code",
      "source": [
        "import json\n",
        "with open('data/train.py.jsonl') as f:\n",
        "    train_data = [json.loads(line) for line in f]"
      ],
      "metadata": {
        "id": "z_mXc686Ojbi"
      },
      "execution_count": null,
      "outputs": []
    },
    {
      "cell_type": "code",
      "source": [
        "prep_tokens = [prepare_tokens_for_search(tokens['code']) for tokens in train_data if tokens['src'] == 'codeqa']"
      ],
      "metadata": {
        "id": "PnqukFXARUHr"
      },
      "execution_count": null,
      "outputs": []
    },
    {
      "cell_type": "code",
      "source": [
        "from tqdm import tqdm\n",
        "\n",
        "tokens2orig = {}\n",
        "\n",
        "for i, prep_token in enumerate(tqdm(prep_tokens)):\n",
        "    tokens2orig[i] = prep_samples_dict[prep_token]"
      ],
      "metadata": {
        "colab": {
          "base_uri": "https://localhost:8080/"
        },
        "id": "DHBZsWptSMdK",
        "outputId": "8af703f0-e67e-4de2-debe-ea980c4f2915"
      },
      "execution_count": null,
      "outputs": [
        {
          "output_type": "stream",
          "name": "stderr",
          "text": [
            "100%|██████████| 56085/56085 [00:00<00:00, 185392.97it/s]\n"
          ]
        }
      ]
    },
    {
      "cell_type": "code",
      "source": [
        "for i, item in enumerate(train_data):\n",
        "    if item['src'] == 'codeqa':\n",
        "        orig_code_idx = tokens2orig[i]\n",
        "        item['code'] = prepare_declbody(orig_samples[orig_code_idx])"
      ],
      "metadata": {
        "id": "Ivm0NKW9Qb5b"
      },
      "execution_count": null,
      "outputs": []
    },
    {
      "cell_type": "code",
      "source": [
        "!pip install jsonlines"
      ],
      "metadata": {
        "colab": {
          "base_uri": "https://localhost:8080/"
        },
        "id": "wUHyo5jsXT6T",
        "outputId": "091a041a-61ee-4379-df05-f63b4af1e4f8"
      },
      "execution_count": null,
      "outputs": [
        {
          "output_type": "stream",
          "name": "stdout",
          "text": [
            "Collecting jsonlines\n",
            "  Downloading jsonlines-3.1.0-py3-none-any.whl (8.6 kB)\n",
            "Requirement already satisfied: attrs>=19.2.0 in /usr/local/lib/python3.10/dist-packages (from jsonlines) (23.1.0)\n",
            "Installing collected packages: jsonlines\n",
            "Successfully installed jsonlines-3.1.0\n"
          ]
        }
      ]
    },
    {
      "cell_type": "code",
      "source": [
        "import jsonlines\n",
        "\n",
        "with jsonlines.open('train.py.jsonl', mode='w') as writer:\n",
        "    writer.write_all(train_data)"
      ],
      "metadata": {
        "id": "2c72jNMRWepK"
      },
      "execution_count": null,
      "outputs": []
    },
    {
      "cell_type": "code",
      "source": [
        "len(train_data)"
      ],
      "metadata": {
        "colab": {
          "base_uri": "https://localhost:8080/"
        },
        "id": "bd5YzqC6Y531",
        "outputId": "e4b20516-6aa0-4fb7-91f1-9951cbf830a6"
      },
      "execution_count": null,
      "outputs": [
        {
          "output_type": "execute_result",
          "data": {
            "text/plain": [
              "71628"
            ]
          },
          "metadata": {},
          "execution_count": 53
        }
      ]
    },
    {
      "cell_type": "markdown",
      "source": [
        "# Dev data"
      ],
      "metadata": {
        "id": "YYIlsDGfWYKr"
      }
    },
    {
      "cell_type": "code",
      "source": [
        "import json\n",
        "with open('data/dev.py.jsonl') as f:\n",
        "    dev_data = [json.loads(line) for line in f]"
      ],
      "metadata": {
        "id": "nIWgcMoVVfCj"
      },
      "execution_count": null,
      "outputs": []
    },
    {
      "cell_type": "code",
      "source": [
        "prep_tokens = [prepare_tokens_for_search(tokens['code']) for tokens in dev_data if tokens['src'] == 'codeqa']"
      ],
      "metadata": {
        "id": "aTifX9neX_I0"
      },
      "execution_count": null,
      "outputs": []
    },
    {
      "cell_type": "code",
      "source": [
        "from tqdm import tqdm\n",
        "\n",
        "tokens2orig = {}\n",
        "\n",
        "for i, prep_token in enumerate(tqdm(prep_tokens)):\n",
        "    tokens2orig[i] = prep_samples_dict[prep_token]"
      ],
      "metadata": {
        "colab": {
          "base_uri": "https://localhost:8080/"
        },
        "id": "44tmYDNmYC8U",
        "outputId": "f6054ddf-cbb7-4422-9173-a30d82e7c87d"
      },
      "execution_count": null,
      "outputs": [
        {
          "output_type": "stream",
          "name": "stderr",
          "text": [
            "100%|██████████| 7000/7000 [00:00<00:00, 198064.75it/s]\n"
          ]
        }
      ]
    },
    {
      "cell_type": "code",
      "source": [
        "for i, item in enumerate(dev_data):\n",
        "    if item['src'] == 'codeqa':\n",
        "        orig_code_idx = tokens2orig[i]\n",
        "        item['code'] = prepare_declbody(orig_samples[orig_code_idx])"
      ],
      "metadata": {
        "id": "-0j8lnIvYEtD"
      },
      "execution_count": null,
      "outputs": []
    },
    {
      "cell_type": "code",
      "source": [
        "import jsonlines\n",
        "\n",
        "with jsonlines.open('dev.py.jsonl', mode='w') as writer:\n",
        "    writer.write_all(dev_data)"
      ],
      "metadata": {
        "id": "KZwwQNBIYIbb"
      },
      "execution_count": null,
      "outputs": []
    },
    {
      "cell_type": "code",
      "source": [
        "!head -n5 dev.py.jsonl"
      ],
      "metadata": {
        "colab": {
          "base_uri": "https://localhost:8080/"
        },
        "id": "jGNnoRFcYN5D",
        "outputId": "b51f9bf0-b8fb-44e7-e5f8-7e95820bf913"
      },
      "execution_count": null,
      "outputs": [
        {
          "output_type": "stream",
          "name": "stdout",
          "text": [
            "{\"code\": \"@pytest.mark.django_db\\ndef test_vfolder_with_no_filter_rules():\\n\\tvfolder_item = {'name': 'whatever', 'priority': 4, 'is_public': True, 'filter_rules': ''}\\n\\twith pytest.raises(ValidationError) as excinfo:\\n\\t\\tVirtualFolder.objects.create(**vfolder_item)\\n\\tassert (u'Some \\tfiltering \\trule \\tmust \\tbe \\tspecified.' in str(excinfo.value))\\n\\tvfolder_item['filter_rules'] = 'FOO'\\n\\tvf = VirtualFolder.objects.create(**vfolder_item)\\n\\tvf.filter_rules = ''\\n\\twith pytest.raises(ValidationError) as excinfo:\\n\\t\\tvf.save()\\n\\tassert (u'Some \\tfiltering \\trule \\tmust \\tbe \\tspecified.' in str(excinfo.value))\\n\", \"code_processed\": \"@pytest mark django dbdef test vfolder with no filter rules vfolder item {'name' 'whatever' 'priority' 4 'is public' True 'filter rules' ''}with pytest raises Validation Error as excinfo Virtual Folder objects create **vfolder item assert u' Somefilteringrulemustbespecified ' in str excinfo value vfolder item['filter rules'] 'FOO'vf Virtual Folder objects create **vfolder item vf filter rules ''with pytest raises Validation Error as excinfo vf save assert u' Somefilteringrulemustbespecified ' in str excinfo value\\n\", \"question\": \"Does it have any filter rules ?\\n\", \"answers\": \"No\\n\", \"src\": \"codeqa\"}\n",
            "{\"code\": \"def safe_range(*args):\\n\\trng = xrange(*args)\\n\\tif (len(rng) > MAX_RANGE):\\n\\t\\traise OverflowError(('range \\ttoo \\tbig, \\tmaximum \\tsize \\tfor \\trange \\tis \\t%d' % MAX_RANGE))\\n\\treturn rng\\n\", \"code_processed\": \"def safe range *args rng xrange *args if len rng > MAX RANGE raise Overflow Error 'rangetoobig maximumsizeforrangeis%d' % MAX RANGE return rng\\n\", \"question\": \"Ca a range generate ranges with a length of more than max_range items ?\\n\", \"answers\": \"No\\n\", \"src\": \"codeqa\"}\n",
            "{\"code\": \"def safe_range(*args):\\n\\trng = xrange(*args)\\n\\tif (len(rng) > MAX_RANGE):\\n\\t\\traise OverflowError(('range \\ttoo \\tbig, \\tmaximum \\tsize \\tfor \\trange \\tis \\t%d' % MAX_RANGE))\\n\\treturn rng\\n\", \"code_processed\": \"def safe range *args rng xrange *args if len rng > MAX RANGE raise Overflow Error 'rangetoobig maximumsizeforrangeis%d' % MAX RANGE return rng\\n\", \"question\": \"What ca a range nt generate ?\\n\", \"answers\": \"ranges with a length of more than max_range items\\n\", \"src\": \"codeqa\"}\n",
            "{\"code\": \"def safe_range(*args):\\n\\trng = xrange(*args)\\n\\tif (len(rng) > MAX_RANGE):\\n\\t\\traise OverflowError(('range \\ttoo \\tbig, \\tmaximum \\tsize \\tfor \\trange \\tis \\t%d' % MAX_RANGE))\\n\\treturn rng\\n\", \"code_processed\": \"def safe range *args rng xrange *args if len rng > MAX RANGE raise Overflow Error 'rangetoobig maximumsizeforrangeis%d' % MAX RANGE return rng\\n\", \"question\": \"What ca nt generate ranges with a length of more than max_range items ?\\n\", \"answers\": \"a range\\n\", \"src\": \"codeqa\"}\n",
            "{\"code\": \"def not_allowed(func):\\n\\tdef inner(self, *args, **kwargs):\\n\\t\\traise NotImplementedError(('%s \\tis \\tnot \\tallowed \\ton \\t%s \\tinstances' % (func, type(self).__name__)))\\n\\treturn inner\\n\", \"code_processed\": \"def not allowed func def inner self *args **kwargs raise Not Implemented Error '%sisnotallowedon%sinstances' % func type self name return inner\\n\", \"question\": \"Do method decorator indicate a method is not allowed to be called ?\\n\", \"answers\": \"No\\n\", \"src\": \"codeqa\"}\n"
          ]
        }
      ]
    },
    {
      "cell_type": "code",
      "source": [
        "len(dev_data)"
      ],
      "metadata": {
        "colab": {
          "base_uri": "https://localhost:8080/"
        },
        "id": "8Qc0IbMAZMDD",
        "outputId": "93867ba2-a5ae-432c-f5cb-50502ec0fb02"
      },
      "execution_count": null,
      "outputs": [
        {
          "output_type": "execute_result",
          "data": {
            "text/plain": [
              "9847"
            ]
          },
          "metadata": {},
          "execution_count": 54
        }
      ]
    },
    {
      "cell_type": "markdown",
      "source": [
        "# Test data"
      ],
      "metadata": {
        "id": "XvSYN_ugYiWz"
      }
    },
    {
      "cell_type": "code",
      "source": [
        "import json\n",
        "with open('data/test.py.jsonl') as f:\n",
        "    test_data = [json.loads(line) for line in f]"
      ],
      "metadata": {
        "id": "MCvxChG4YRsD"
      },
      "execution_count": null,
      "outputs": []
    },
    {
      "cell_type": "code",
      "source": [
        "prep_tokens = [prepare_tokens_for_search(tokens['code']) for tokens in test_data if tokens['src'] == 'codeqa']"
      ],
      "metadata": {
        "id": "Ted3-mIsYl4U"
      },
      "execution_count": null,
      "outputs": []
    },
    {
      "cell_type": "code",
      "source": [
        "from tqdm import tqdm\n",
        "\n",
        "tokens2orig = {}\n",
        "\n",
        "for i, prep_token in enumerate(tqdm(prep_tokens)):\n",
        "    tokens2orig[i] = prep_samples_dict[prep_token]"
      ],
      "metadata": {
        "colab": {
          "base_uri": "https://localhost:8080/"
        },
        "id": "FDW0gRMgYnzs",
        "outputId": "63a76da4-813b-44ad-d9cc-720afef5786d"
      },
      "execution_count": null,
      "outputs": [
        {
          "output_type": "stream",
          "name": "stderr",
          "text": [
            "100%|██████████| 7000/7000 [00:00<00:00, 121471.42it/s]\n"
          ]
        }
      ]
    },
    {
      "cell_type": "code",
      "source": [
        "for i, item in enumerate(test_data):\n",
        "    if item['src'] == 'codeqa':\n",
        "        orig_code_idx = tokens2orig[i]\n",
        "        item['code'] = prepare_declbody(orig_samples[orig_code_idx])"
      ],
      "metadata": {
        "id": "cpH6AkO2Ypt0"
      },
      "execution_count": null,
      "outputs": []
    },
    {
      "cell_type": "code",
      "source": [
        "import jsonlines\n",
        "\n",
        "with jsonlines.open('test.py.jsonl', mode='w') as writer:\n",
        "    writer.write_all(test_data)"
      ],
      "metadata": {
        "id": "MbWQxffVYtkk"
      },
      "execution_count": null,
      "outputs": []
    },
    {
      "cell_type": "code",
      "source": [
        "!head -n5 test.py.jsonl"
      ],
      "metadata": {
        "colab": {
          "base_uri": "https://localhost:8080/"
        },
        "id": "xO1rgdKbYw1U",
        "outputId": "62187b89-894b-4fd7-ee17-b2926bed65a3"
      },
      "execution_count": null,
      "outputs": [
        {
          "output_type": "stream",
          "name": "stdout",
          "text": [
            "{\"code\": \"def add_bucket_default_owner(bucket_name, user_email):\\n\\tstorage_client = storage.Client()\\n\\tbucket = storage_client.bucket(bucket_name)\\n\\tbucket.acl.reload()\\n\\tbucket.default_object_acl.user(user_email).grant_owner()\\n\\tbucket.default_object_acl.save()\\n\\tprint 'Added \\tuser \\t{} \\tas \\tan \\towner \\tin \\tthe \\tdefault \\tacl \\ton \\tbucket \\t{}.'.format(user_email, bucket_name)\\n\", \"code_processed\": \"def add bucket default owner bucket name user email storage client storage Client bucket storage client bucket bucket name bucket acl reload bucket default object acl user user email grant owner bucket default object acl save print ' Addeduser{}asanownerinthedefaultaclonbucket{} ' format user email bucket name\\n\", \"question\": \"How does the code add a user in the given buckets default object access control list ?\\n\", \"answers\": \"as an owner\\n\", \"src\": \"codeqa\"}\n",
            "{\"code\": \"def add_bucket_default_owner(bucket_name, user_email):\\n\\tstorage_client = storage.Client()\\n\\tbucket = storage_client.bucket(bucket_name)\\n\\tbucket.acl.reload()\\n\\tbucket.default_object_acl.user(user_email).grant_owner()\\n\\tbucket.default_object_acl.save()\\n\\tprint 'Added \\tuser \\t{} \\tas \\tan \\towner \\tin \\tthe \\tdefault \\tacl \\ton \\tbucket \\t{}.'.format(user_email, bucket_name)\\n\", \"code_processed\": \"def add bucket default owner bucket name user email storage client storage Client bucket storage client bucket bucket name bucket acl reload bucket default object acl user user email grant owner bucket default object acl save print ' Addeduser{}asanownerinthedefaultaclonbucket{} ' format user email bucket name\\n\", \"question\": \"Does the code add a user in the given buckets default object access control list as an owner ?\\n\", \"answers\": \"Yes\\n\", \"src\": \"codeqa\"}\n",
            "{\"code\": \"def add_bucket_default_owner(bucket_name, user_email):\\n\\tstorage_client = storage.Client()\\n\\tbucket = storage_client.bucket(bucket_name)\\n\\tbucket.acl.reload()\\n\\tbucket.default_object_acl.user(user_email).grant_owner()\\n\\tbucket.default_object_acl.save()\\n\\tprint 'Added \\tuser \\t{} \\tas \\tan \\towner \\tin \\tthe \\tdefault \\tacl \\ton \\tbucket \\t{}.'.format(user_email, bucket_name)\\n\", \"code_processed\": \"def add bucket default owner bucket name user email storage client storage Client bucket storage client bucket bucket name bucket acl reload bucket default object acl user user email grant owner bucket default object acl save print ' Addeduser{}asanownerinthedefaultaclonbucket{} ' format user email bucket name\\n\", \"question\": \"Where does the code add a user as an owner ?\\n\", \"answers\": \"in the given buckets default object access control list\\n\", \"src\": \"codeqa\"}\n",
            "{\"code\": \"def make_trivial_sdist(dist_path, setup_py):\\n\\tsetup_py_file = tarfile.TarInfo(name='setup.py')\\n\\ttry:\\n\\t\\tMemFile = BytesIO\\n\\texcept AttributeError:\\n\\t\\tMemFile = StringIO\\n\\tsetup_py_bytes = MemFile(setup_py.encode('utf-8'))\\n\\tsetup_py_file.size = len(setup_py_bytes.getvalue())\\n\\tdist = tarfile.open(dist_path, 'w:gz')\\n\\ttry:\\n\\t\\tdist.addfile(setup_py_file, fileobj=setup_py_bytes)\\n\\tfinally:\\n\\t\\tdist.close()\\n\", \"code_processed\": \"def make trivial sdist dist path setup py setup py file tarfile Tar Info name 'setup py' try Mem File Bytes I Oexcept Attribute Error Mem File String I Osetup py bytes Mem File setup py encode 'utf- 8 ' setup py file size len setup py bytes getvalue dist tarfile open dist path 'w gz' try dist addfile setup py file fileobj setup py bytes finally dist close\\n\", \"question\": \"Does the code create a simple sdist tarball at dist_path ?\\n\", \"answers\": \"Yes\\n\", \"src\": \"codeqa\"}\n",
            "{\"code\": \"def make_trivial_sdist(dist_path, setup_py):\\n\\tsetup_py_file = tarfile.TarInfo(name='setup.py')\\n\\ttry:\\n\\t\\tMemFile = BytesIO\\n\\texcept AttributeError:\\n\\t\\tMemFile = StringIO\\n\\tsetup_py_bytes = MemFile(setup_py.encode('utf-8'))\\n\\tsetup_py_file.size = len(setup_py_bytes.getvalue())\\n\\tdist = tarfile.open(dist_path, 'w:gz')\\n\\ttry:\\n\\t\\tdist.addfile(setup_py_file, fileobj=setup_py_bytes)\\n\\tfinally:\\n\\t\\tdist.close()\\n\", \"code_processed\": \"def make trivial sdist dist path setup py setup py file tarfile Tar Info name 'setup py' try Mem File Bytes I Oexcept Attribute Error Mem File String I Osetup py bytes Mem File setup py encode 'utf- 8 ' setup py file size len setup py bytes getvalue dist tarfile open dist path 'w gz' try dist addfile setup py file fileobj setup py bytes finally dist close\\n\", \"question\": \"How does the code create a simple sdist tarball ?\\n\", \"answers\": \"at dist_path\\n\", \"src\": \"codeqa\"}\n"
          ]
        }
      ]
    },
    {
      "cell_type": "code",
      "source": [
        "len(test_data)"
      ],
      "metadata": {
        "colab": {
          "base_uri": "https://localhost:8080/"
        },
        "id": "MekB2t9VYy7c",
        "outputId": "adf9e74c-bbfc-4019-ef63-1edc01e63bc9"
      },
      "execution_count": null,
      "outputs": [
        {
          "output_type": "execute_result",
          "data": {
            "text/plain": [
              "9847"
            ]
          },
          "metadata": {},
          "execution_count": 55
        }
      ]
    },
    {
      "cell_type": "code",
      "source": [
        "!zip -r UltimateQADataset.zip UltimateQADataset/"
      ],
      "metadata": {
        "colab": {
          "base_uri": "https://localhost:8080/"
        },
        "id": "WLiJi3kRZUtT",
        "outputId": "5d1a5786-6cc3-4234-cd2c-38e0ad13391f"
      },
      "execution_count": null,
      "outputs": [
        {
          "output_type": "stream",
          "name": "stdout",
          "text": [
            "  adding: UltimateQADataset/ (stored 0%)\n",
            "  adding: UltimateQADataset/test.py.jsonl (deflated 80%)\n",
            "  adding: UltimateQADataset/dev.py.jsonl (deflated 80%)\n",
            "  adding: UltimateQADataset/train.py.jsonl (deflated 81%)\n"
          ]
        }
      ]
    },
    {
      "cell_type": "code",
      "source": [
        "!cp UltimateQADataset.zip drive/MyDrive/"
      ],
      "metadata": {
        "id": "5jg0PyWza1Ms"
      },
      "execution_count": null,
      "outputs": []
    },
    {
      "cell_type": "code",
      "source": [],
      "metadata": {
        "id": "B_N0WWDxbF70"
      },
      "execution_count": null,
      "outputs": []
    }
  ]
}