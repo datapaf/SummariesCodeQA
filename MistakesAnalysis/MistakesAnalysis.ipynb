{
 "cells": [
  {
   "cell_type": "code",
   "execution_count": 6,
   "id": "5ff4c03b-5912-4cb1-bcb6-c64a757b5319",
   "metadata": {},
   "outputs": [],
   "source": [
    "dir = \"/home/user/georgy/Results/starcoder/Starcoder1024Tokens32LoraRankSummaries/\"\n",
    "test_filename = \"starcoder_summaries_test.jsonl\"\n",
    "preds_filename = \"StarcoderWithSummaries.csv\"\n",
    "prev_preds_filename = \"Starcoder1024Tokens32LoraForSummariesComparison.csv\""
   ]
  },
  {
   "cell_type": "code",
   "execution_count": 7,
   "id": "35a071d7-27a8-4466-8165-fbafa2b481cd",
   "metadata": {},
   "outputs": [],
   "source": [
    "import pandas as pd\n",
    "import json\n",
    "import numpy as np"
   ]
  },
  {
   "cell_type": "code",
   "execution_count": 8,
   "id": "43a52237-663a-462d-b89e-67391d259a0f",
   "metadata": {},
   "outputs": [
    {
     "data": {
      "text/html": [
       "<div>\n",
       "<style scoped>\n",
       "    .dataframe tbody tr th:only-of-type {\n",
       "        vertical-align: middle;\n",
       "    }\n",
       "\n",
       "    .dataframe tbody tr th {\n",
       "        vertical-align: top;\n",
       "    }\n",
       "\n",
       "    .dataframe thead th {\n",
       "        text-align: right;\n",
       "    }\n",
       "</style>\n",
       "<table border=\"1\" class=\"dataframe\">\n",
       "  <thead>\n",
       "    <tr style=\"text-align: right;\">\n",
       "      <th></th>\n",
       "      <th>1</th>\n",
       "    </tr>\n",
       "    <tr>\n",
       "      <th>0</th>\n",
       "      <th></th>\n",
       "    </tr>\n",
       "  </thead>\n",
       "  <tbody>\n",
       "    <tr>\n",
       "      <th>0</th>\n",
       "      <td>due to a crash</td>\n",
       "    </tr>\n",
       "    <tr>\n",
       "      <th>1</th>\n",
       "      <td>It is a variable that counts the number of tim...</td>\n",
       "    </tr>\n",
       "    <tr>\n",
       "      <th>2</th>\n",
       "      <td>the match strength between two strings</td>\n",
       "    </tr>\n",
       "    <tr>\n",
       "      <th>3</th>\n",
       "      <td>the linear conformance factor of f</td>\n",
       "    </tr>\n",
       "    <tr>\n",
       "      <th>4</th>\n",
       "      <td>that the builtin registry matches the remote r...</td>\n",
       "    </tr>\n",
       "    <tr>\n",
       "      <th>...</th>\n",
       "      <td>...</td>\n",
       "    </tr>\n",
       "    <tr>\n",
       "      <th>8223</th>\n",
       "      <td>the name of the encoding</td>\n",
       "    </tr>\n",
       "    <tr>\n",
       "      <th>8224</th>\n",
       "      <td>a simple traceback</td>\n",
       "    </tr>\n",
       "    <tr>\n",
       "      <th>8225</th>\n",
       "      <td>with a seeded random loader</td>\n",
       "    </tr>\n",
       "    <tr>\n",
       "      <th>8226</th>\n",
       "      <td>the current version</td>\n",
       "    </tr>\n",
       "    <tr>\n",
       "      <th>8227</th>\n",
       "      <td>the text of the top element</td>\n",
       "    </tr>\n",
       "  </tbody>\n",
       "</table>\n",
       "<p>8228 rows × 1 columns</p>\n",
       "</div>"
      ],
      "text/plain": [
       "                                                      1\n",
       "0                                                      \n",
       "0                                        due to a crash\n",
       "1     It is a variable that counts the number of tim...\n",
       "2                the match strength between two strings\n",
       "3                    the linear conformance factor of f\n",
       "4     that the builtin registry matches the remote r...\n",
       "...                                                 ...\n",
       "8223                           the name of the encoding\n",
       "8224                                 a simple traceback\n",
       "8225                        with a seeded random loader\n",
       "8226                                the current version\n",
       "8227                        the text of the top element\n",
       "\n",
       "[8228 rows x 1 columns]"
      ]
     },
     "execution_count": 8,
     "metadata": {},
     "output_type": "execute_result"
    }
   ],
   "source": [
    "preds_df = pd.read_csv(dir + preds_filename, sep='\\t', index_col=0, header=None)\n",
    "preds_df"
   ]
  },
  {
   "cell_type": "code",
   "execution_count": 4,
   "id": "cefc3b39-af96-4ce0-a557-40dceeb1166a",
   "metadata": {},
   "outputs": [],
   "source": [
    "from datasets import load_dataset\n",
    "\n",
    "dataset = load_dataset(\n",
    "    \"datapaf/UltimateQASummaries\",\n",
    "    # data_dir=\".\",\n",
    "    split=\"test\",\n",
    "    token=True,\n",
    ")"
   ]
  },
  {
   "cell_type": "code",
   "execution_count": 15,
   "id": "9ddd5572-6a3e-4fda-900a-3e8995c483ae",
   "metadata": {},
   "outputs": [
    {
     "name": "stdout",
     "output_type": "stream",
     "text": [
      "calculating scores...\n",
      "computing bert embedding.\n"
     ]
    },
    {
     "data": {
      "application/vnd.jupyter.widget-view+json": {
       "model_id": "f4865931ce6445dbbb9f83a81401dc6a",
       "version_major": 2,
       "version_minor": 0
      },
      "text/plain": [
       "  0%|          | 0/217 [00:00<?, ?it/s]"
      ]
     },
     "metadata": {},
     "output_type": "display_data"
    },
    {
     "name": "stdout",
     "output_type": "stream",
     "text": [
      "computing greedy matching.\n"
     ]
    },
    {
     "data": {
      "application/vnd.jupyter.widget-view+json": {
       "model_id": "7d23101eb62445f3bfdd097c455e16b6",
       "version_major": 2,
       "version_minor": 0
      },
      "text/plain": [
       "  0%|          | 0/129 [00:00<?, ?it/s]"
      ]
     },
     "metadata": {},
     "output_type": "display_data"
    },
    {
     "name": "stdout",
     "output_type": "stream",
     "text": [
      "done in 27.63 seconds, 297.74 sentences/sec\n"
     ]
    }
   ],
   "source": [
    "import bert_score\n",
    "\n",
    "summaries_scores = bert_score.score(\n",
    "    preds_df.iloc[:, 0].to_list(),\n",
    "    [ex['answer'] for ex in dataset],\n",
    "    verbose=True,\n",
    "    model_type='microsoft/deberta-xlarge-mnli',\n",
    "    device='cuda:1'\n",
    ")"
   ]
  },
  {
   "cell_type": "code",
   "execution_count": 18,
   "id": "fe540802-0bdf-4ed6-99e8-e3271bb7e763",
   "metadata": {},
   "outputs": [
    {
     "data": {
      "image/png": "[encoded data removed]",
      "text/plain": [
       "<Figure size 640x480 with 1 Axes>"
      ]
     },
     "metadata": {},
     "output_type": "display_data"
    }
   ],
   "source": [
    "import matplotlib.pyplot as plt\n",
    "\n",
    "plt.hist(summaries_scores[2])\n",
    "plt.show()"
   ]
  },
  {
   "cell_type": "code",
   "execution_count": 11,
   "id": "d9249499-61eb-4027-bef8-0ccab10136cc",
   "metadata": {},
   "outputs": [
    {
     "data": {
      "text/html": [
       "<div>\n",
       "<style scoped>\n",
       "    .dataframe tbody tr th:only-of-type {\n",
       "        vertical-align: middle;\n",
       "    }\n",
       "\n",
       "    .dataframe tbody tr th {\n",
       "        vertical-align: top;\n",
       "    }\n",
       "\n",
       "    .dataframe thead th {\n",
       "        text-align: right;\n",
       "    }\n",
       "</style>\n",
       "<table border=\"1\" class=\"dataframe\">\n",
       "  <thead>\n",
       "    <tr style=\"text-align: right;\">\n",
       "      <th></th>\n",
       "      <th>1</th>\n",
       "    </tr>\n",
       "    <tr>\n",
       "      <th>0</th>\n",
       "      <th></th>\n",
       "    </tr>\n",
       "  </thead>\n",
       "  <tbody>\n",
       "    <tr>\n",
       "      <th>0</th>\n",
       "      <td>non</td>\n",
       "    </tr>\n",
       "    <tr>\n",
       "      <th>1</th>\n",
       "      <td>It is a variable that counts the number of tim...</td>\n",
       "    </tr>\n",
       "    <tr>\n",
       "      <th>2</th>\n",
       "      <td>the match strength between two strings</td>\n",
       "    </tr>\n",
       "    <tr>\n",
       "      <th>3</th>\n",
       "      <td>the leading coefficient of f</td>\n",
       "    </tr>\n",
       "    <tr>\n",
       "      <th>4</th>\n",
       "      <td>that the builtin registry matches the download...</td>\n",
       "    </tr>\n",
       "    <tr>\n",
       "      <th>...</th>\n",
       "      <td>...</td>\n",
       "    </tr>\n",
       "    <tr>\n",
       "      <th>8223</th>\n",
       "      <td>the name of the encoding</td>\n",
       "    </tr>\n",
       "    <tr>\n",
       "      <th>8224</th>\n",
       "      <td>a simple traceback</td>\n",
       "    </tr>\n",
       "    <tr>\n",
       "      <th>8225</th>\n",
       "      <td>with a seeded random loader</td>\n",
       "    </tr>\n",
       "    <tr>\n",
       "      <th>8226</th>\n",
       "      <td>to create a release on github</td>\n",
       "    </tr>\n",
       "    <tr>\n",
       "      <th>8227</th>\n",
       "      <td>the text of the top_elem</td>\n",
       "    </tr>\n",
       "  </tbody>\n",
       "</table>\n",
       "<p>8228 rows × 1 columns</p>\n",
       "</div>"
      ],
      "text/plain": [
       "                                                      1\n",
       "0                                                      \n",
       "0                                                   non\n",
       "1     It is a variable that counts the number of tim...\n",
       "2                the match strength between two strings\n",
       "3                          the leading coefficient of f\n",
       "4     that the builtin registry matches the download...\n",
       "...                                                 ...\n",
       "8223                           the name of the encoding\n",
       "8224                                 a simple traceback\n",
       "8225                        with a seeded random loader\n",
       "8226                      to create a release on github\n",
       "8227                           the text of the top_elem\n",
       "\n",
       "[8228 rows x 1 columns]"
      ]
     },
     "execution_count": 11,
     "metadata": {},
     "output_type": "execute_result"
    }
   ],
   "source": [
    "prev_preds_df = pd.read_csv(prev_preds_filename, sep='\\t', index_col=0, header=None)\n",
    "prev_preds_df = prev_preds_df.fillna(\"\")\n",
    "prev_preds_df"
   ]
  },
  {
   "cell_type": "code",
   "execution_count": 19,
   "id": "4a916a98-7850-45e5-ba4c-0045555172b4",
   "metadata": {},
   "outputs": [
    {
     "name": "stdout",
     "output_type": "stream",
     "text": [
      "calculating scores...\n",
      "computing bert embedding.\n"
     ]
    },
    {
     "data": {
      "application/vnd.jupyter.widget-view+json": {
       "model_id": "89bfc6c02cf146cf83ebabb85a539398",
       "version_major": 2,
       "version_minor": 0
      },
      "text/plain": [
       "  0%|          | 0/221 [00:00<?, ?it/s]"
      ]
     },
     "metadata": {},
     "output_type": "display_data"
    },
    {
     "name": "stdout",
     "output_type": "stream",
     "text": [
      "computing greedy matching.\n"
     ]
    },
    {
     "data": {
      "application/vnd.jupyter.widget-view+json": {
       "model_id": "6f98822d06144c19aed6f9bdd6a3385d",
       "version_major": 2,
       "version_minor": 0
      },
      "text/plain": [
       "  0%|          | 0/129 [00:00<?, ?it/s]"
      ]
     },
     "metadata": {},
     "output_type": "display_data"
    },
    {
     "name": "stderr",
     "output_type": "stream",
     "text": [
      "Warning: Empty candidate sentence detected; setting raw BERTscores to 0.\n"
     ]
    },
    {
     "name": "stdout",
     "output_type": "stream",
     "text": [
      "done in 28.34 seconds, 290.34 sentences/sec\n"
     ]
    }
   ],
   "source": [
    "import bert_score\n",
    "\n",
    "no_summaries_scores = bert_score.score(\n",
    "    prev_preds_df.iloc[:, 0].to_list(),\n",
    "    [ex['answer'] for ex in dataset],\n",
    "    verbose=True,\n",
    "    model_type='microsoft/deberta-xlarge-mnli',\n",
    "    device='cuda:1'\n",
    ")"
   ]
  },
  {
   "cell_type": "code",
   "execution_count": 20,
   "id": "44dbd414-627c-4167-9db1-fbdb9174e5e2",
   "metadata": {
    "scrolled": true
   },
   "outputs": [
    {
     "data": {
      "image/png": "[encoded data removed]",
      "text/plain": [
       "<Figure size 640x480 with 1 Axes>"
      ]
     },
     "metadata": {},
     "output_type": "display_data"
    }
   ],
   "source": [
    "import matplotlib.pyplot as plt\n",
    "\n",
    "plt.hist(no_summaries_scores[2])\n",
    "plt.show()"
   ]
  },
  {
   "cell_type": "code",
   "execution_count": 46,
   "id": "fa67e638-ecf2-4a2f-b897-8d2b58c48bbb",
   "metadata": {},
   "outputs": [
    {
     "data": {
      "text/plain": [
       "0.388065143412737"
      ]
     },
     "execution_count": 46,
     "metadata": {},
     "output_type": "execute_result"
    }
   ],
   "source": [
    "idx_worse = np.where(no_summaries_scores[2] - summaries_scores[2] > 0.001)[0]\n",
    "len(idx_worse) / len(dataset)"
   ]
  },
  {
   "cell_type": "code",
   "execution_count": 32,
   "id": "fd9d2409-19b2-43df-80c6-d7f7b9614fd5",
   "metadata": {},
   "outputs": [
    {
     "data": {
      "text/plain": [
       "array([   3,    7,   11, ..., 8223, 8226, 8227])"
      ]
     },
     "execution_count": 32,
     "metadata": {},
     "output_type": "execute_result"
    }
   ],
   "source": [
    "idx_worse = np.where(summaries_scores[2] < no_summaries_scores[2])[0]\n",
    "idx_worse"
   ]
  },
  {
   "cell_type": "code",
   "execution_count": 33,
   "id": "5b035b1a-df75-42f6-910c-e1ae18b2c947",
   "metadata": {},
   "outputs": [
    {
     "data": {
      "text/plain": [
       "0.4630529897909577"
      ]
     },
     "execution_count": 33,
     "metadata": {},
     "output_type": "execute_result"
    }
   ],
   "source": [
    "len(idx_worse) / len(dataset)"
   ]
  },
  {
   "cell_type": "code",
   "execution_count": 40,
   "id": "7d5e00fd-4eae-4ff7-a704-6907713a6b06",
   "metadata": {},
   "outputs": [
    {
     "data": {
      "text/html": [
       "<div>\n",
       "<style scoped>\n",
       "    .dataframe tbody tr th:only-of-type {\n",
       "        vertical-align: middle;\n",
       "    }\n",
       "\n",
       "    .dataframe tbody tr th {\n",
       "        vertical-align: top;\n",
       "    }\n",
       "\n",
       "    .dataframe thead th {\n",
       "        text-align: right;\n",
       "    }\n",
       "</style>\n",
       "<table border=\"1\" class=\"dataframe\">\n",
       "  <thead>\n",
       "    <tr style=\"text-align: right;\">\n",
       "      <th></th>\n",
       "      <th>question</th>\n",
       "      <th>summary</th>\n",
       "      <th>code</th>\n",
       "      <th>answer</th>\n",
       "    </tr>\n",
       "  </thead>\n",
       "  <tbody>\n",
       "    <tr>\n",
       "      <th>0</th>\n",
       "      <td>What computes in k[x_0 ?</td>\n",
       "      <td>the linear conformance factor lc</td>\n",
       "      <td>def _LC(f):\\n\\tring = f.ring\\n\\tk = ring.ngens...</td>\n",
       "      <td>the leading coefficient of a multivariate poly...</td>\n",
       "    </tr>\n",
       "    <tr>\n",
       "      <th>1</th>\n",
       "      <td>What does this function do?</td>\n",
       "      <td>delete a customer from stripe</td>\n",
       "      <td>def delete_customer(customer_id):\\n\\ttry:\\n\\t\\...</td>\n",
       "      <td>Delete customer from Stripe, cancelling subscr...</td>\n",
       "    </tr>\n",
       "    <tr>\n",
       "      <th>2</th>\n",
       "      <td>What do a unix pipeline process ?</td>\n",
       "      <td>returns a pipeline to upload the data from in ...</td>\n",
       "      <td>def get_upload_pipeline(in_fd, out_fd, rate_li...</td>\n",
       "      <td>a file for uploading</td>\n",
       "    </tr>\n",
       "    <tr>\n",
       "      <th>3</th>\n",
       "      <td>What does this function provide ?</td>\n",
       "      <td>load a source file</td>\n",
       "      <td>def load_source(name, pathname):\\n\\tif six.PY2...</td>\n",
       "      <td>the backward compatibility for imp</td>\n",
       "    </tr>\n",
       "    <tr>\n",
       "      <th>4</th>\n",
       "      <td>What does the code return ?</td>\n",
       "      <td>get the directory time suffix</td>\n",
       "      <td>def get_dir_time_suffix():\\n\\tdirfmt = '%4d-%0...</td>\n",
       "      <td>the name of a folder with the now time as suffix</td>\n",
       "    </tr>\n",
       "    <tr>\n",
       "      <th>...</th>\n",
       "      <td>...</td>\n",
       "      <td>...</td>\n",
       "      <td>...</td>\n",
       "      <td>...</td>\n",
       "    </tr>\n",
       "    <tr>\n",
       "      <th>3805</th>\n",
       "      <td>What have dependencies to_process : set of nod...</td>\n",
       "      <td>initial has dependencies</td>\n",
       "      <td>def initial_has_dependencies(tree, to_process)...</td>\n",
       "      <td>all nodes that are nt processed up front stll</td>\n",
       "    </tr>\n",
       "    <tr>\n",
       "      <th>3806</th>\n",
       "      <td>What do the twisted mainloop configure ?</td>\n",
       "      <td>installs the reactor</td>\n",
       "      <td>def install():\\n\\treactor = WxReactor()\\n\\tfro...</td>\n",
       "      <td>to be run inside the wxpython mainloop</td>\n",
       "    </tr>\n",
       "    <tr>\n",
       "      <th>3807</th>\n",
       "      <td>What does \" normalized \" be where ?</td>\n",
       "      <td>returns the normalized name of the encoding</td>\n",
       "      <td>def _norm_encoding(encoding):\\n\\ttry:\\n\\t\\tret...</td>\n",
       "      <td>what pythons codecs module calls it</td>\n",
       "    </tr>\n",
       "    <tr>\n",
       "      <th>3808</th>\n",
       "      <td>What do a github release use ?</td>\n",
       "      <td>release the current version to the repository</td>\n",
       "      <td>@release.command()\\ndef ghrelease():\\n\\tversio...</td>\n",
       "      <td>the github - release command - line tool</td>\n",
       "    </tr>\n",
       "    <tr>\n",
       "      <th>3809</th>\n",
       "      <td>What does the code return up to a maximum of n...</td>\n",
       "      <td>returns the text of the element</td>\n",
       "      <td>def lead_text(top_elem, num_words=10):\\n\\tpat ...</td>\n",
       "      <td>the leading text contained in top_elem</td>\n",
       "    </tr>\n",
       "  </tbody>\n",
       "</table>\n",
       "<p>3810 rows × 4 columns</p>\n",
       "</div>"
      ],
      "text/plain": [
       "                                               question  \\\n",
       "0                              What computes in k[x_0 ?   \n",
       "1                           What does this function do?   \n",
       "2                     What do a unix pipeline process ?   \n",
       "3                     What does this function provide ?   \n",
       "4                           What does the code return ?   \n",
       "...                                                 ...   \n",
       "3805  What have dependencies to_process : set of nod...   \n",
       "3806           What do the twisted mainloop configure ?   \n",
       "3807                What does \" normalized \" be where ?   \n",
       "3808                     What do a github release use ?   \n",
       "3809  What does the code return up to a maximum of n...   \n",
       "\n",
       "                                                summary  \\\n",
       "0                      the linear conformance factor lc   \n",
       "1                         delete a customer from stripe   \n",
       "2     returns a pipeline to upload the data from in ...   \n",
       "3                                    load a source file   \n",
       "4                         get the directory time suffix   \n",
       "...                                                 ...   \n",
       "3805                           initial has dependencies   \n",
       "3806                               installs the reactor   \n",
       "3807        returns the normalized name of the encoding   \n",
       "3808      release the current version to the repository   \n",
       "3809                    returns the text of the element   \n",
       "\n",
       "                                                   code  \\\n",
       "0     def _LC(f):\\n\\tring = f.ring\\n\\tk = ring.ngens...   \n",
       "1     def delete_customer(customer_id):\\n\\ttry:\\n\\t\\...   \n",
       "2     def get_upload_pipeline(in_fd, out_fd, rate_li...   \n",
       "3     def load_source(name, pathname):\\n\\tif six.PY2...   \n",
       "4     def get_dir_time_suffix():\\n\\tdirfmt = '%4d-%0...   \n",
       "...                                                 ...   \n",
       "3805  def initial_has_dependencies(tree, to_process)...   \n",
       "3806  def install():\\n\\treactor = WxReactor()\\n\\tfro...   \n",
       "3807  def _norm_encoding(encoding):\\n\\ttry:\\n\\t\\tret...   \n",
       "3808  @release.command()\\ndef ghrelease():\\n\\tversio...   \n",
       "3809  def lead_text(top_elem, num_words=10):\\n\\tpat ...   \n",
       "\n",
       "                                                 answer  \n",
       "0     the leading coefficient of a multivariate poly...  \n",
       "1     Delete customer from Stripe, cancelling subscr...  \n",
       "2                                  a file for uploading  \n",
       "3                    the backward compatibility for imp  \n",
       "4      the name of a folder with the now time as suffix  \n",
       "...                                                 ...  \n",
       "3805      all nodes that are nt processed up front stll  \n",
       "3806             to be run inside the wxpython mainloop  \n",
       "3807                what pythons codecs module calls it  \n",
       "3808           the github - release command - line tool  \n",
       "3809             the leading text contained in top_elem  \n",
       "\n",
       "[3810 rows x 4 columns]"
      ]
     },
     "execution_count": 40,
     "metadata": {},
     "output_type": "execute_result"
    }
   ],
   "source": [
    "analysis_df = pd.DataFrame(dataset[idx_worse])\n",
    "analysis_df"
   ]
  },
  {
   "cell_type": "code",
   "execution_count": 41,
   "id": "c4780825-8859-434c-b6ce-f50db7c6fdd4",
   "metadata": {},
   "outputs": [
    {
     "data": {
      "text/html": [
       "<div>\n",
       "<style scoped>\n",
       "    .dataframe tbody tr th:only-of-type {\n",
       "        vertical-align: middle;\n",
       "    }\n",
       "\n",
       "    .dataframe tbody tr th {\n",
       "        vertical-align: top;\n",
       "    }\n",
       "\n",
       "    .dataframe thead th {\n",
       "        text-align: right;\n",
       "    }\n",
       "</style>\n",
       "<table border=\"1\" class=\"dataframe\">\n",
       "  <thead>\n",
       "    <tr style=\"text-align: right;\">\n",
       "      <th></th>\n",
       "      <th>question</th>\n",
       "      <th>summary</th>\n",
       "      <th>code</th>\n",
       "      <th>answer</th>\n",
       "      <th>prev_pred</th>\n",
       "      <th>pred</th>\n",
       "      <th>score_drop</th>\n",
       "    </tr>\n",
       "  </thead>\n",
       "  <tbody>\n",
       "    <tr>\n",
       "      <th>0</th>\n",
       "      <td>What computes in k[x_0 ?</td>\n",
       "      <td>the linear conformance factor lc</td>\n",
       "      <td>def _LC(f):\\n\\tring = f.ring\\n\\tk = ring.ngens...</td>\n",
       "      <td>the leading coefficient of a multivariate poly...</td>\n",
       "      <td>the leading coefficient of f</td>\n",
       "      <td>the linear conformance factor of f</td>\n",
       "      <td>5.984080e-02</td>\n",
       "    </tr>\n",
       "    <tr>\n",
       "      <th>1</th>\n",
       "      <td>What does this function do?</td>\n",
       "      <td>delete a customer from stripe</td>\n",
       "      <td>def delete_customer(customer_id):\\n\\ttry:\\n\\t\\...</td>\n",
       "      <td>Delete customer from Stripe, cancelling subscr...</td>\n",
       "      <td>Delete a customer from stripe.</td>\n",
       "      <td>Deletes a customer from stripe.</td>\n",
       "      <td>6.362075e-02</td>\n",
       "    </tr>\n",
       "    <tr>\n",
       "      <th>2</th>\n",
       "      <td>What do a unix pipeline process ?</td>\n",
       "      <td>returns a pipeline to upload the data from in ...</td>\n",
       "      <td>def get_upload_pipeline(in_fd, out_fd, rate_li...</td>\n",
       "      <td>a file for uploading</td>\n",
       "      <td>to upload a file</td>\n",
       "      <td>the data</td>\n",
       "      <td>1.554011e-01</td>\n",
       "    </tr>\n",
       "    <tr>\n",
       "      <th>3</th>\n",
       "      <td>What does this function provide ?</td>\n",
       "      <td>load a source file</td>\n",
       "      <td>def load_source(name, pathname):\\n\\tif six.PY2...</td>\n",
       "      <td>the backward compatibility for imp</td>\n",
       "      <td>a compatibility layer for python 2 and 3</td>\n",
       "      <td>a way to load a source file as a module</td>\n",
       "      <td>4.045972e-02</td>\n",
       "    </tr>\n",
       "    <tr>\n",
       "      <th>4</th>\n",
       "      <td>What does the code return ?</td>\n",
       "      <td>get the directory time suffix</td>\n",
       "      <td>def get_dir_time_suffix():\\n\\tdirfmt = '%4d-%0...</td>\n",
       "      <td>the name of a folder with the now time as suffix</td>\n",
       "      <td>a string that can be used as a directory name</td>\n",
       "      <td>the current time</td>\n",
       "      <td>1.160163e-01</td>\n",
       "    </tr>\n",
       "    <tr>\n",
       "      <th>...</th>\n",
       "      <td>...</td>\n",
       "      <td>...</td>\n",
       "      <td>...</td>\n",
       "      <td>...</td>\n",
       "      <td>...</td>\n",
       "      <td>...</td>\n",
       "      <td>...</td>\n",
       "    </tr>\n",
       "    <tr>\n",
       "      <th>3805</th>\n",
       "      <td>What have dependencies to_process : set of nod...</td>\n",
       "      <td>initial has dependencies</td>\n",
       "      <td>def initial_has_dependencies(tree, to_process)...</td>\n",
       "      <td>all nodes that are nt processed up front stll</td>\n",
       "      <td>the nodes in the tree</td>\n",
       "      <td>the nodes</td>\n",
       "      <td>1.636207e-02</td>\n",
       "    </tr>\n",
       "    <tr>\n",
       "      <th>3806</th>\n",
       "      <td>What do the twisted mainloop configure ?</td>\n",
       "      <td>installs the reactor</td>\n",
       "      <td>def install():\\n\\treactor = WxReactor()\\n\\tfro...</td>\n",
       "      <td>to be run inside the wxpython mainloop</td>\n",
       "      <td>to be run inside the gtk mainloop</td>\n",
       "      <td>to be run with the wx mainloop</td>\n",
       "      <td>8.557600e-02</td>\n",
       "    </tr>\n",
       "    <tr>\n",
       "      <th>3807</th>\n",
       "      <td>What does \" normalized \" be where ?</td>\n",
       "      <td>returns the normalized name of the encoding</td>\n",
       "      <td>def _norm_encoding(encoding):\\n\\ttry:\\n\\t\\tret...</td>\n",
       "      <td>what pythons codecs module calls it</td>\n",
       "      <td>the name of the encoding</td>\n",
       "      <td>the name of the encoding</td>\n",
       "      <td>2.980232e-08</td>\n",
       "    </tr>\n",
       "    <tr>\n",
       "      <th>3808</th>\n",
       "      <td>What do a github release use ?</td>\n",
       "      <td>release the current version to the repository</td>\n",
       "      <td>@release.command()\\ndef ghrelease():\\n\\tversio...</td>\n",
       "      <td>the github - release command - line tool</td>\n",
       "      <td>to create a release on github</td>\n",
       "      <td>the current version</td>\n",
       "      <td>1.445338e-01</td>\n",
       "    </tr>\n",
       "    <tr>\n",
       "      <th>3809</th>\n",
       "      <td>What does the code return up to a maximum of n...</td>\n",
       "      <td>returns the text of the element</td>\n",
       "      <td>def lead_text(top_elem, num_words=10):\\n\\tpat ...</td>\n",
       "      <td>the leading text contained in top_elem</td>\n",
       "      <td>the text of the top_elem</td>\n",
       "      <td>the text of the top element</td>\n",
       "      <td>1.294650e-01</td>\n",
       "    </tr>\n",
       "  </tbody>\n",
       "</table>\n",
       "<p>3810 rows × 7 columns</p>\n",
       "</div>"
      ],
      "text/plain": [
       "                                               question  \\\n",
       "0                              What computes in k[x_0 ?   \n",
       "1                           What does this function do?   \n",
       "2                     What do a unix pipeline process ?   \n",
       "3                     What does this function provide ?   \n",
       "4                           What does the code return ?   \n",
       "...                                                 ...   \n",
       "3805  What have dependencies to_process : set of nod...   \n",
       "3806           What do the twisted mainloop configure ?   \n",
       "3807                What does \" normalized \" be where ?   \n",
       "3808                     What do a github release use ?   \n",
       "3809  What does the code return up to a maximum of n...   \n",
       "\n",
       "                                                summary  \\\n",
       "0                      the linear conformance factor lc   \n",
       "1                         delete a customer from stripe   \n",
       "2     returns a pipeline to upload the data from in ...   \n",
       "3                                    load a source file   \n",
       "4                         get the directory time suffix   \n",
       "...                                                 ...   \n",
       "3805                           initial has dependencies   \n",
       "3806                               installs the reactor   \n",
       "3807        returns the normalized name of the encoding   \n",
       "3808      release the current version to the repository   \n",
       "3809                    returns the text of the element   \n",
       "\n",
       "                                                   code  \\\n",
       "0     def _LC(f):\\n\\tring = f.ring\\n\\tk = ring.ngens...   \n",
       "1     def delete_customer(customer_id):\\n\\ttry:\\n\\t\\...   \n",
       "2     def get_upload_pipeline(in_fd, out_fd, rate_li...   \n",
       "3     def load_source(name, pathname):\\n\\tif six.PY2...   \n",
       "4     def get_dir_time_suffix():\\n\\tdirfmt = '%4d-%0...   \n",
       "...                                                 ...   \n",
       "3805  def initial_has_dependencies(tree, to_process)...   \n",
       "3806  def install():\\n\\treactor = WxReactor()\\n\\tfro...   \n",
       "3807  def _norm_encoding(encoding):\\n\\ttry:\\n\\t\\tret...   \n",
       "3808  @release.command()\\ndef ghrelease():\\n\\tversio...   \n",
       "3809  def lead_text(top_elem, num_words=10):\\n\\tpat ...   \n",
       "\n",
       "                                                 answer  \\\n",
       "0     the leading coefficient of a multivariate poly...   \n",
       "1     Delete customer from Stripe, cancelling subscr...   \n",
       "2                                  a file for uploading   \n",
       "3                    the backward compatibility for imp   \n",
       "4      the name of a folder with the now time as suffix   \n",
       "...                                                 ...   \n",
       "3805      all nodes that are nt processed up front stll   \n",
       "3806             to be run inside the wxpython mainloop   \n",
       "3807                what pythons codecs module calls it   \n",
       "3808           the github - release command - line tool   \n",
       "3809             the leading text contained in top_elem   \n",
       "\n",
       "                                          prev_pred  \\\n",
       "0                      the leading coefficient of f   \n",
       "1                    Delete a customer from stripe.   \n",
       "2                                  to upload a file   \n",
       "3          a compatibility layer for python 2 and 3   \n",
       "4     a string that can be used as a directory name   \n",
       "...                                             ...   \n",
       "3805                          the nodes in the tree   \n",
       "3806              to be run inside the gtk mainloop   \n",
       "3807                       the name of the encoding   \n",
       "3808                  to create a release on github   \n",
       "3809                       the text of the top_elem   \n",
       "\n",
       "                                         pred    score_drop  \n",
       "0          the linear conformance factor of f  5.984080e-02  \n",
       "1             Deletes a customer from stripe.  6.362075e-02  \n",
       "2                                    the data  1.554011e-01  \n",
       "3     a way to load a source file as a module  4.045972e-02  \n",
       "4                            the current time  1.160163e-01  \n",
       "...                                       ...           ...  \n",
       "3805                                the nodes  1.636207e-02  \n",
       "3806           to be run with the wx mainloop  8.557600e-02  \n",
       "3807                 the name of the encoding  2.980232e-08  \n",
       "3808                      the current version  1.445338e-01  \n",
       "3809              the text of the top element  1.294650e-01  \n",
       "\n",
       "[3810 rows x 7 columns]"
      ]
     },
     "execution_count": 41,
     "metadata": {},
     "output_type": "execute_result"
    }
   ],
   "source": [
    "analysis_df['prev_pred'] = prev_preds_df.iloc[idx_worse, 0].to_list()\n",
    "analysis_df['pred'] = preds_df.iloc[idx_worse, 0].to_list()\n",
    "analysis_df['score_drop'] = no_summaries_scores[2][idx_worse] - summaries_scores[2][idx_worse] \n",
    "analysis_df"
   ]
  },
  {
   "cell_type": "code",
   "execution_count": 45,
   "id": "ac01edb3-7fe6-48b3-86c3-8faf9d0a5598",
   "metadata": {},
   "outputs": [],
   "source": [
    "analysis_df.to_excel('SummaryResultsAnalysis.xlsx', engine='xlsxwriter')"
   ]
  },
  {
   "cell_type": "code",
   "execution_count": null,
   "id": "affae8ad-f891-44f1-85c9-21ff0d0ab7b2",
   "metadata": {},
   "outputs": [],
   "source": []
  }
 ],
 "metadata": {
  "kernelspec": {
   "display_name": "ncs_georgy",
   "language": "python",
   "name": "ncs_georgy"
  },
  "language_info": {
   "codemirror_mode": {
    "name": "ipython",
    "version": 3
   },
   "file_extension": ".py",
   "mimetype": "text/x-python",
   "name": "python",
   "nbconvert_exporter": "python",
   "pygments_lexer": "ipython3",
   "version": "3.11.4"
  }
 },
 "nbformat": 4,
 "nbformat_minor": 5
}
