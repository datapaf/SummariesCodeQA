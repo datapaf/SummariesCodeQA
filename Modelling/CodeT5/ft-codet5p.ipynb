{
 "cells": [
  {
   "cell_type": "code",
   "execution_count": 1,
   "id": "b4d99a3c-90ef-49d0-8307-022a23b324fb",
   "metadata": {},
   "outputs": [],
   "source": [
    "# Download the dataset (we will need only Java Funcom subset)\n",
    "\n",
    "# gdown 1m4uZi0hoInYxkgrSlF23EjVasSgaXOXy\n",
    "# unzip FSE_dataset.zip"
   ]
  },
  {
   "cell_type": "code",
   "execution_count": 1,
   "id": "dd65209b-1493-4208-b587-1aa66dfcf473",
   "metadata": {},
   "outputs": [
    {
     "name": "stderr",
     "output_type": "stream",
     "text": [
      "Found cached dataset json (/root/.cache/huggingface/datasets/json/default-f112521508a2c83f/0.0.0/8bb11242116d547c741b2e8a1f18598ffdd40a1d4f2a2872c7a28b697434bc96)\n",
      "Found cached dataset json (/root/.cache/huggingface/datasets/json/default-c98ca934df233e6d/0.0.0/8bb11242116d547c741b2e8a1f18598ffdd40a1d4f2a2872c7a28b697434bc96)\n",
      "Found cached dataset json (/root/.cache/huggingface/datasets/json/default-810e345add771a51/0.0.0/8bb11242116d547c741b2e8a1f18598ffdd40a1d4f2a2872c7a28b697434bc96)\n"
     ]
    },
    {
     "data": {
      "text/plain": [
       "DatasetDict({\n",
       "    train: Dataset({\n",
       "        features: ['id', 'raw_code', 'raw_comment', 'code', 'comment'],\n",
       "        num_rows: 1184438\n",
       "    })\n",
       "    test: Dataset({\n",
       "        features: ['id', 'raw_code', 'raw_comment', 'code', 'comment'],\n",
       "        num_rows: 69392\n",
       "    })\n",
       "    valid: Dataset({\n",
       "        features: ['id', 'raw_code', 'raw_comment', 'code', 'comment'],\n",
       "        num_rows: 62702\n",
       "    })\n",
       "})"
      ]
     },
     "execution_count": 1,
     "metadata": {},
     "output_type": "execute_result"
    }
   ],
   "source": [
    "from datasets import load_dataset, DatasetDict\n",
    "\n",
    "\n",
    "data_dir = '../dataset/clean/docstring/'\n",
    "data_files = {\n",
    "    'train': data_dir + 'train/docstring.train',\n",
    "    'test': data_dir + 'test/docstring.test',\n",
    "    'valid': data_dir + 'valid/docstring.valid'\n",
    "}\n",
    "\n",
    "funcom = DatasetDict({\n",
    "    'train': load_dataset('json', data_files=data_files['train'], split='train'),\n",
    "    'test': load_dataset('json', data_files=data_files['test'], split='train'),\n",
    "    'valid': load_dataset('json', data_files=data_files['valid'], split='train')\n",
    "})\n",
    "funcom"
   ]
  },
  {
   "cell_type": "code",
   "execution_count": 2,
   "id": "6f54b627-ba18-43dc-b53c-ed6f81bd5da1",
   "metadata": {},
   "outputs": [
    {
     "data": {
      "text/plain": [
       "{'id': '43227138',\n",
       " 'raw_code': '  public Statement createStatement() throws SQLException {\\n    // TODO Auto-generated method stub\\n    return connection.createStatement();\\n  }\\n',\n",
       " 'raw_comment': '  /**\\n   * Creates a new, empty <code>Statement</code> object.\\n   *   \\n   * @return              The <code>Statement</code> object\\n   * @throws SQLException if a database access error occurs\\n   */\\n',\n",
       " 'code': 'public statement create statement throws sqlexception return connection create statement',\n",
       " 'comment': 'creates a new empty statement object'}"
      ]
     },
     "execution_count": 2,
     "metadata": {},
     "output_type": "execute_result"
    }
   ],
   "source": [
    "funcom['train'][4]"
   ]
  },
  {
   "cell_type": "code",
   "execution_count": 78,
   "id": "d60a891d-9ecb-410f-bd94-f46b2378192c",
   "metadata": {},
   "outputs": [
    {
     "name": "stderr",
     "output_type": "stream",
     "text": [
      "100%|██████████| 1184438/1184438 [05:13<00:00, 3776.99it/s]\n",
      "100%|██████████| 69392/69392 [00:18<00:00, 3772.71it/s]\n",
      "100%|██████████| 62702/62702 [00:16<00:00, 3741.35it/s]\n"
     ]
    }
   ],
   "source": [
    "from tqdm import tqdm\n",
    "\n",
    "\n",
    "code_lengths = {}\n",
    "code_tokens_lengths = {}\n",
    "comment_lengths = {}\n",
    "for t in ['train', 'test', 'valid']:\n",
    "    code_lengths[t] = []\n",
    "    code_tokens_lengths[t] = []\n",
    "    comment_lengths[t] = []\n",
    "    for el in tqdm(funcom[t]):\n",
    "        code_lengths[t].append(len(el['code'].split()))\n",
    "        code_tokens_lengths[t].append(len(el['code_tokens']))\n",
    "        comment_lengths[t].append(len(el['comment'].split()))"
   ]
  },
  {
   "cell_type": "code",
   "execution_count": 79,
   "id": "ce697331-5df9-4fc7-8bf9-b329d933b883",
   "metadata": {},
   "outputs": [
    {
     "name": "stdout",
     "output_type": "stream",
     "text": [
      "train\n",
      "2 33.42471366166908 100\n",
      "16 258.74747686244444 1201\n",
      "1 8.566740513222305 111\n",
      "\n",
      "test\n",
      "3 34.49420682499424 100\n",
      "28 265.8989220659442 1124\n",
      "1 8.341408231496427 69\n",
      "\n",
      "valid\n",
      "3 33.933989346432334 100\n",
      "28 262.92698797486526 1124\n",
      "1 8.426637108864151 60\n",
      "\n"
     ]
    }
   ],
   "source": [
    "import numpy as np\n",
    "\n",
    "\n",
    "for t in ['train', 'test', 'valid']:\n",
    "    code_lengths[t] = np.array(code_lengths[t])\n",
    "    code_tokens_lengths[t] = np.array(code_tokens_lengths[t])\n",
    "    comment_lengths[t] = np.array(comment_lengths[t])\n",
    "\n",
    "for t in ['train', 'test', 'valid']:\n",
    "    print(t)\n",
    "    print(np.min(code_lengths[t]), np.mean(code_lengths[t]), np.max(code_lengths[t]))\n",
    "    print(np.min(code_tokens_lengths[t]), np.mean(code_tokens_lengths[t]), np.max(code_tokens_lengths[t]))\n",
    "    print(np.min(comment_lengths[t]), np.mean(comment_lengths[t]), np.max(comment_lengths[t]))\n",
    "    print()"
   ]
  },
  {
   "cell_type": "code",
   "execution_count": 80,
   "id": "cca59f44-d8a8-4c88-a089-d276130667ab",
   "metadata": {},
   "outputs": [
    {
     "data": {
      "text/plain": [
       "<Axes: >"
      ]
     },
     "execution_count": 80,
     "metadata": {},
     "output_type": "execute_result"
    },
    {
     "data": {
      "image/png": "[encoded data removed]",
      "text/plain": [
       "<Figure size 640x480 with 1 Axes>"
      ]
     },
     "metadata": {},
     "output_type": "display_data"
    }
   ],
   "source": [
    "import seaborn as sns\n",
    "import pandas as pd\n",
    "\n",
    "\n",
    "sns.boxplot(data=pd.DataFrame(data=code_lengths['test']), whis=[0.05, 0.99], orient='horizontal')"
   ]
  },
  {
   "cell_type": "code",
   "execution_count": 81,
   "id": "e128f3d0-4f5d-4388-8464-a849fa1a3ed4",
   "metadata": {},
   "outputs": [
    {
     "data": {
      "text/plain": [
       "<Axes: >"
      ]
     },
     "execution_count": 81,
     "metadata": {},
     "output_type": "execute_result"
    },
    {
     "data": {
      "image/png": "[encoded data removed]",
      "text/plain": [
       "<Figure size 640x480 with 1 Axes>"
      ]
     },
     "metadata": {},
     "output_type": "display_data"
    }
   ],
   "source": [
    "sns.boxplot(data=pd.DataFrame(data=code_tokens_lengths['test']), whis=[0.05, 0.99], orient='horizontal')"
   ]
  },
  {
   "cell_type": "code",
   "execution_count": 82,
   "id": "b846d563-64ec-453c-85fc-3756629bc58f",
   "metadata": {},
   "outputs": [
    {
     "data": {
      "text/plain": [
       "<Axes: >"
      ]
     },
     "execution_count": 82,
     "metadata": {},
     "output_type": "execute_result"
    },
    {
     "data": {
      "image/png": "[encoded data removed]",
      "text/plain": [
       "<Figure size 640x480 with 1 Axes>"
      ]
     },
     "metadata": {},
     "output_type": "display_data"
    }
   ],
   "source": [
    "sns.boxplot(data=pd.DataFrame(data=comment_lengths['test']), whis=[0.05, 0.99], orient='horizontal')"
   ]
  },
  {
   "cell_type": "code",
   "execution_count": 96,
   "id": "7eb287a4-8f97-44a1-b98b-f9b2d8715460",
   "metadata": {},
   "outputs": [
    {
     "data": {
      "text/html": [
       "<div>\n",
       "<style scoped>\n",
       "    .dataframe tbody tr th:only-of-type {\n",
       "        vertical-align: middle;\n",
       "    }\n",
       "\n",
       "    .dataframe tbody tr th {\n",
       "        vertical-align: top;\n",
       "    }\n",
       "\n",
       "    .dataframe thead th {\n",
       "        text-align: right;\n",
       "    }\n",
       "</style>\n",
       "<table border=\"1\" class=\"dataframe\">\n",
       "  <thead>\n",
       "    <tr style=\"text-align: right;\">\n",
       "      <th></th>\n",
       "      <th>0</th>\n",
       "    </tr>\n",
       "  </thead>\n",
       "  <tbody>\n",
       "    <tr>\n",
       "      <th>39290</th>\n",
       "      <td>24</td>\n",
       "    </tr>\n",
       "    <tr>\n",
       "      <th>39291</th>\n",
       "      <td>24</td>\n",
       "    </tr>\n",
       "    <tr>\n",
       "      <th>49899</th>\n",
       "      <td>24</td>\n",
       "    </tr>\n",
       "    <tr>\n",
       "      <th>51526</th>\n",
       "      <td>24</td>\n",
       "    </tr>\n",
       "    <tr>\n",
       "      <th>65224</th>\n",
       "      <td>24</td>\n",
       "    </tr>\n",
       "    <tr>\n",
       "      <th>...</th>\n",
       "      <td>...</td>\n",
       "    </tr>\n",
       "    <tr>\n",
       "      <th>48573</th>\n",
       "      <td>58</td>\n",
       "    </tr>\n",
       "    <tr>\n",
       "      <th>12718</th>\n",
       "      <td>65</td>\n",
       "    </tr>\n",
       "    <tr>\n",
       "      <th>12712</th>\n",
       "      <td>65</td>\n",
       "    </tr>\n",
       "    <tr>\n",
       "      <th>12774</th>\n",
       "      <td>65</td>\n",
       "    </tr>\n",
       "    <tr>\n",
       "      <th>50470</th>\n",
       "      <td>69</td>\n",
       "    </tr>\n",
       "  </tbody>\n",
       "</table>\n",
       "<p>617 rows × 1 columns</p>\n",
       "</div>"
      ],
      "text/plain": [
       "        0\n",
       "39290  24\n",
       "39291  24\n",
       "49899  24\n",
       "51526  24\n",
       "65224  24\n",
       "...    ..\n",
       "48573  58\n",
       "12718  65\n",
       "12712  65\n",
       "12774  65\n",
       "50470  69\n",
       "\n",
       "[617 rows x 1 columns]"
      ]
     },
     "execution_count": 96,
     "metadata": {},
     "output_type": "execute_result"
    }
   ],
   "source": [
    "df = pd.DataFrame(data=comment_lengths['test'])\n",
    "df[df[0] > np.percentile(df, 99)].sort_values(0)  # values above 99% of the whole data"
   ]
  },
  {
   "cell_type": "code",
   "execution_count": 33,
   "id": "2171403b-57f9-4daf-b3f7-d6bfa2f5b433",
   "metadata": {},
   "outputs": [],
   "source": [
    "from pathlib import Path\n",
    "\n",
    "\n",
    "save_dir = 'CodeBERT/UniXcoder/downstream-tasks/code-summarization/dataset/python'\n",
    "Path(save_dir).mkdir(parents=True, exist_ok=True)"
   ]
  },
  {
   "cell_type": "code",
   "execution_count": 35,
   "id": "51d2c9c6-8878-4a5d-bd4d-00a0ab07fb92",
   "metadata": {},
   "outputs": [
    {
     "name": "stderr",
     "output_type": "stream",
     "text": [
      "100%|██████████| 1184438/1184438 [06:12<00:00, 3180.21it/s]\n",
      "100%|██████████| 62702/62702 [00:19<00:00, 3153.81it/s]\n",
      "100%|██████████| 69392/69392 [00:21<00:00, 3183.34it/s]\n"
     ]
    }
   ],
   "source": [
    "import json\n",
    "from tqdm import tqdm\n",
    "\n",
    "\n",
    "# Load the Hugging Face dataset\n",
    "dataset = funcom\n",
    "\n",
    "# Split the dataset into train, valid, and test sets\n",
    "train_dataset = dataset['train']\n",
    "valid_dataset = dataset['valid']\n",
    "test_dataset = dataset['test']\n",
    "\n",
    "# Function to create a jsonl file given a dataset\n",
    "def create_jsonl_file(dataset, filename):\n",
    "    with open(filename, 'w') as f:\n",
    "        for example in tqdm(dataset):\n",
    "            code_tokens = example['code_tokens']\n",
    "            docstring_tokens = example['docstring_tokens']\n",
    "            json_line = json.dumps({'code_tokens': code_tokens, 'docstring_tokens': docstring_tokens})\n",
    "            f.write(json_line + '\\n')\n",
    "\n",
    "# Create jsonl files for train, valid, and test datasets\n",
    "create_jsonl_file(train_dataset, f'{save_dir}/train.jsonl')\n",
    "create_jsonl_file(valid_dataset, f'{save_dir}/valid.jsonl')\n",
    "create_jsonl_file(test_dataset, f'{save_dir}/test.jsonl')"
   ]
  },
  {
   "cell_type": "code",
   "execution_count": 1,
   "id": "fe969a18-5c5c-4152-854d-628c98a14b6a",
   "metadata": {},
   "outputs": [],
   "source": [
    "import os\n",
    "os.environ[\"TOKENIZERS_PARALLELISM\"] = \"false\"\n",
    "os.environ[\"CUDA_VISIBLE_DEVICES\"] = \"0\""
   ]
  },
  {
   "cell_type": "code",
   "execution_count": null,
   "id": "a20cbd8e-2157-4bc3-94a9-1e01e64095e4",
   "metadata": {},
   "outputs": [
    {
     "name": "stdout",
     "output_type": "stream",
     "text": [
      "07/20/2023 11:59:27 - INFO - __main__ -   device: cuda, n_gpu: 1\n",
      "07/20/2023 11:59:30 - INFO - __main__ -   Training/evaluation parameters Namespace(adam_epsilon=1e-08, beam_size=10, dev_filename='dataset/java/valid.jsonl', device=device(type='cuda'), do_eval=True, do_test=False, do_train=True, eval_batch_size=48, gradient_accumulation_steps=2, learning_rate=5e-05, max_grad_norm=1.0, max_source_length=256, max_target_length=128, model_name_or_path='microsoft/unixcoder-base', n_gpu=1, no_cuda=False, num_train_epochs=10, output_dir='saved_models/java', seed=42, test_filename=None, train_batch_size=48, train_filename='dataset/java/train.jsonl', weight_decay=0.0)\n",
      "07/20/2023 11:59:49 - INFO - __main__ -   *** Example ***\n",
      "07/20/2023 11:59:49 - INFO - __main__ -   idx: 0\n",
      "07/20/2023 11:59:49 - INFO - __main__ -   source_tokens: ['<s>', '<encoder-decoder>', '</s>', '<mask0>', 'public', '_void', '_mouse', '_Up', '_(', '_final', '_Mouse', '_Event', '_mouse', 'event', '_)', '_{', '_modify', '_Save', '_On', '_Click', '_(', '_)', '_;', '_}', '</s>']\n",
      "07/20/2023 11:59:49 - INFO - __main__ -   source_ids: 0 5 2 19 653 723 7432 3304 400 1920 14593 3916 7432 1357 743 399 8660 8040 2878 25966 400 743 2476 425 2 1 1 1 1 1 1 1 1 1 1 1 1 1 1 1 1 1 1 1 1 1 1 1 1 1 1 1 1 1 1 1 1 1 1 1 1 1 1 1 1 1 1 1 1 1 1 1 1 1 1 1 1 1 1 1 1 1 1 1 1 1 1 1 1 1 1 1 1 1 1 1 1 1 1 1 1 1 1 1 1 1 1 1 1 1 1 1 1 1 1 1 1 1 1 1 1 1 1 1 1 1 1 1 1 1 1 1 1 1 1 1 1 1 1 1 1 1 1 1 1 1 1 1 1 1 1 1 1 1 1 1 1 1 1 1 1 1 1 1 1 1 1 1 1 1 1 1 1 1 1 1 1 1 1 1 1 1 1 1 1 1 1 1 1 1 1 1 1 1 1 1 1 1 1 1 1 1 1 1 1 1 1 1 1 1 1 1 1 1 1 1 1 1 1 1 1 1 1 1 1 1 1 1 1 1 1 1 1 1 1 1 1 1 1 1 1 1 1 1 1 1 1 1 1 1 1 1 1 1 1 1\n",
      "07/20/2023 11:59:49 - INFO - __main__ -   target_tokens: ['<mask0>', 'mouseup', '_of', '_abstract', 'data', 'view', '_ok', '_button', '</s>']\n",
      "07/20/2023 11:59:49 - INFO - __main__ -   target_ids: 19 19573 595 6501 636 1791 2621 4485 2 1 1 1 1 1 1 1 1 1 1 1 1 1 1 1 1 1 1 1 1 1 1 1 1 1 1 1 1 1 1 1 1 1 1 1 1 1 1 1 1 1 1 1 1 1 1 1 1 1 1 1 1 1 1 1 1 1 1 1 1 1 1 1 1 1 1 1 1 1 1 1 1 1 1 1 1 1 1 1 1 1 1 1 1 1 1 1 1 1 1 1 1 1 1 1 1 1 1 1 1 1 1 1 1 1 1 1 1 1 1 1 1 1 1 1 1 1 1 1\n",
      "07/20/2023 11:59:49 - INFO - __main__ -   *** Example ***\n",
      "07/20/2023 11:59:49 - INFO - __main__ -   idx: 1\n",
      "07/20/2023 11:59:49 - INFO - __main__ -   source_tokens: ['<s>', '<encoder-decoder>', '</s>', '<mask0>', 'public', '_boolean', '_is', '_Connection', '_Open', '_(', '_)', '_throws', '_SQL', '_Exception', '_{', '_return', '_!', '_connection', '_.', '_is', '_Clo', 'sed', '_(', '_)', '_;', '_}', '</s>']\n",
      "07/20/2023 11:59:49 - INFO - __main__ -   source_ids: 0 5 2 19 653 2116 555 9314 5123 400 743 2323 5130 2654 399 483 552 3228 746 555 9511 899 400 743 2476 425 2 1 1 1 1 1 1 1 1 1 1 1 1 1 1 1 1 1 1 1 1 1 1 1 1 1 1 1 1 1 1 1 1 1 1 1 1 1 1 1 1 1 1 1 1 1 1 1 1 1 1 1 1 1 1 1 1 1 1 1 1 1 1 1 1 1 1 1 1 1 1 1 1 1 1 1 1 1 1 1 1 1 1 1 1 1 1 1 1 1 1 1 1 1 1 1 1 1 1 1 1 1 1 1 1 1 1 1 1 1 1 1 1 1 1 1 1 1 1 1 1 1 1 1 1 1 1 1 1 1 1 1 1 1 1 1 1 1 1 1 1 1 1 1 1 1 1 1 1 1 1 1 1 1 1 1 1 1 1 1 1 1 1 1 1 1 1 1 1 1 1 1 1 1 1 1 1 1 1 1 1 1 1 1 1 1 1 1 1 1 1 1 1 1 1 1 1 1 1 1 1 1 1 1 1 1 1 1 1 1 1 1 1 1 1 1 1 1 1 1 1 1 1 1 1 1 1 1 1 1\n",
      "07/20/2023 11:59:49 - INFO - __main__ -   target_tokens: ['<mask0>', 'returns', '_true', '_if', '_the', '_data', 'bas', 'connection', '_is', '_open', '</s>']\n",
      "07/20/2023 11:59:49 - INFO - __main__ -   target_ids: 19 1900 769 462 448 869 7381 3592 555 2717 2 1 1 1 1 1 1 1 1 1 1 1 1 1 1 1 1 1 1 1 1 1 1 1 1 1 1 1 1 1 1 1 1 1 1 1 1 1 1 1 1 1 1 1 1 1 1 1 1 1 1 1 1 1 1 1 1 1 1 1 1 1 1 1 1 1 1 1 1 1 1 1 1 1 1 1 1 1 1 1 1 1 1 1 1 1 1 1 1 1 1 1 1 1 1 1 1 1 1 1 1 1 1 1 1 1 1 1 1 1 1 1 1 1 1 1 1 1\n",
      "07/20/2023 11:59:49 - INFO - __main__ -   *** Example ***\n",
      "07/20/2023 11:59:49 - INFO - __main__ -   idx: 2\n",
      "07/20/2023 11:59:49 - INFO - __main__ -   source_tokens: ['<s>', '<encoder-decoder>', '</s>', '<mask0>', 'public', '_boolean', '_equals', '_(', '_final', '_Object', '_obj', '_)', '_{', '_super', '_.', '_equals', '_(', '_obj', '_)', '_;', '_boolean', '_result', '_;', '_if', '_(', '_obj', '_=', '_=', '_this', '_)', '_{', '_result', '_=', '_true', '_;', '_}', '_else', '_if', '_(', '_obj', '_.', '_get', '_Class', '_(', '_)', '_=', '_=', '_Oracle', '_Connection', '_.', '_class', '_)', '_{', '_result', '_=', '_(', '_(', '_Oracle', '_Connection', '_)', '_obj', '_)', '_.', '_connection', '_String', '_=', '_=', '_connection', '_String', '_;', '_}', '_else', '_{', '_result', '_=', '_false', '_;', '_}', '_return', '_result', '_;', '_}', '</s>']\n",
      "07/20/2023 11:59:49 - INFO - __main__ -   source_ids: 0 5 2 19 653 2116 14407 400 1920 2278 2127 743 399 4133 746 14407 400 2127 743 2476 2116 1046 2476 462 400 2127 385 385 547 743 399 1046 385 769 2476 425 669 462 400 2127 746 744 4807 400 743 385 385 34812 9314 746 1503 743 399 1046 385 400 400 34812 9314 743 2127 743 746 3228 1167 385 385 3228 1167 2476 425 669 399 1046 385 766 2476 425 483 1046 2476 425 2 1 1 1 1 1 1 1 1 1 1 1 1 1 1 1 1 1 1 1 1 1 1 1 1 1 1 1 1 1 1 1 1 1 1 1 1 1 1 1 1 1 1 1 1 1 1 1 1 1 1 1 1 1 1 1 1 1 1 1 1 1 1 1 1 1 1 1 1 1 1 1 1 1 1 1 1 1 1 1 1 1 1 1 1 1 1 1 1 1 1 1 1 1 1 1 1 1 1 1 1 1 1 1 1 1 1 1 1 1 1 1 1 1 1 1 1 1 1 1 1 1 1 1 1 1 1 1 1 1 1 1 1 1 1 1 1 1 1 1 1 1 1 1 1 1 1 1 1 1 1 1 1 1 1 1 1 1 1 1 1 1 1 1 1 1 1 1 1 1 1 1 1 1\n",
      "07/20/2023 11:59:49 - INFO - __main__ -   target_tokens: ['<mask0>', 'ind', 'icates', '_whether', '_some', '_other', '_object', '_is', '_equal', '_to', '_this', '_one', '</s>']\n",
      "07/20/2023 11:59:49 - INFO - __main__ -   target_ids: 19 640 12861 3564 3348 1946 1137 555 4154 508 547 1787 2 1 1 1 1 1 1 1 1 1 1 1 1 1 1 1 1 1 1 1 1 1 1 1 1 1 1 1 1 1 1 1 1 1 1 1 1 1 1 1 1 1 1 1 1 1 1 1 1 1 1 1 1 1 1 1 1 1 1 1 1 1 1 1 1 1 1 1 1 1 1 1 1 1 1 1 1 1 1 1 1 1 1 1 1 1 1 1 1 1 1 1 1 1 1 1 1 1 1 1 1 1 1 1 1 1 1 1 1 1 1 1 1 1 1 1\n",
      "07/20/2023 11:59:49 - INFO - __main__ -   *** Example ***\n",
      "07/20/2023 11:59:49 - INFO - __main__ -   idx: 3\n",
      "07/20/2023 11:59:49 - INFO - __main__ -   source_tokens: ['<s>', '<encoder-decoder>', '</s>', '<mask0>', 'public', '_int', '_hash', '_Code', '_(', '_)', '_{', '_return', '_h', '_Code', '_;', '_}', '</s>']\n",
      "07/20/2023 11:59:49 - INFO - __main__ -   source_ids: 0 5 2 19 653 554 2712 4489 400 743 399 483 566 4489 2476 425 2 1 1 1 1 1 1 1 1 1 1 1 1 1 1 1 1 1 1 1 1 1 1 1 1 1 1 1 1 1 1 1 1 1 1 1 1 1 1 1 1 1 1 1 1 1 1 1 1 1 1 1 1 1 1 1 1 1 1 1 1 1 1 1 1 1 1 1 1 1 1 1 1 1 1 1 1 1 1 1 1 1 1 1 1 1 1 1 1 1 1 1 1 1 1 1 1 1 1 1 1 1 1 1 1 1 1 1 1 1 1 1 1 1 1 1 1 1 1 1 1 1 1 1 1 1 1 1 1 1 1 1 1 1 1 1 1 1 1 1 1 1 1 1 1 1 1 1 1 1 1 1 1 1 1 1 1 1 1 1 1 1 1 1 1 1 1 1 1 1 1 1 1 1 1 1 1 1 1 1 1 1 1 1 1 1 1 1 1 1 1 1 1 1 1 1 1 1 1 1 1 1 1 1 1 1 1 1 1 1 1 1 1 1 1 1 1 1 1 1 1 1 1 1 1 1 1 1 1 1 1 1 1 1 1 1 1 1 1 1\n",
      "07/20/2023 11:59:49 - INFO - __main__ -   target_tokens: ['<mask0>', 'returns', '_a', '_hash', '_code', '_value', '_for', '_the', '_object', '</s>']\n",
      "07/20/2023 11:59:49 - INFO - __main__ -   target_ids: 19 1900 434 2712 1717 767 563 448 1137 2 1 1 1 1 1 1 1 1 1 1 1 1 1 1 1 1 1 1 1 1 1 1 1 1 1 1 1 1 1 1 1 1 1 1 1 1 1 1 1 1 1 1 1 1 1 1 1 1 1 1 1 1 1 1 1 1 1 1 1 1 1 1 1 1 1 1 1 1 1 1 1 1 1 1 1 1 1 1 1 1 1 1 1 1 1 1 1 1 1 1 1 1 1 1 1 1 1 1 1 1 1 1 1 1 1 1 1 1 1 1 1 1 1 1 1 1 1 1\n",
      "07/20/2023 11:59:49 - INFO - __main__ -   *** Example ***\n",
      "07/20/2023 11:59:49 - INFO - __main__ -   idx: 4\n",
      "07/20/2023 11:59:49 - INFO - __main__ -   source_tokens: ['<s>', '<encoder-decoder>', '</s>', '<mask0>', 'public', '_Statement', '_create', '_Statement', '_(', '_)', '_throws', '_SQL', '_Exception', '_{', '_return', '_connection', '_.', '_create', '_Statement', '_(', '_)', '_;', '_}', '</s>']\n",
      "07/20/2023 11:59:49 - INFO - __main__ -   source_ids: 0 5 2 19 653 22116 1738 22116 400 743 2323 5130 2654 399 483 3228 746 1738 22116 400 743 2476 425 2 1 1 1 1 1 1 1 1 1 1 1 1 1 1 1 1 1 1 1 1 1 1 1 1 1 1 1 1 1 1 1 1 1 1 1 1 1 1 1 1 1 1 1 1 1 1 1 1 1 1 1 1 1 1 1 1 1 1 1 1 1 1 1 1 1 1 1 1 1 1 1 1 1 1 1 1 1 1 1 1 1 1 1 1 1 1 1 1 1 1 1 1 1 1 1 1 1 1 1 1 1 1 1 1 1 1 1 1 1 1 1 1 1 1 1 1 1 1 1 1 1 1 1 1 1 1 1 1 1 1 1 1 1 1 1 1 1 1 1 1 1 1 1 1 1 1 1 1 1 1 1 1 1 1 1 1 1 1 1 1 1 1 1 1 1 1 1 1 1 1 1 1 1 1 1 1 1 1 1 1 1 1 1 1 1 1 1 1 1 1 1 1 1 1 1 1 1 1 1 1 1 1 1 1 1 1 1 1 1 1 1 1 1 1 1 1 1 1 1 1 1 1 1 1 1 1 1 1 1 1 1 1\n",
      "07/20/2023 11:59:49 - INFO - __main__ -   target_tokens: ['<mask0>', 'creates', '_a', '_new', '_empty', '_statement', '_object', '</s>']\n",
      "07/20/2023 11:59:49 - INFO - __main__ -   target_ids: 19 41629 434 579 2670 7003 1137 2 1 1 1 1 1 1 1 1 1 1 1 1 1 1 1 1 1 1 1 1 1 1 1 1 1 1 1 1 1 1 1 1 1 1 1 1 1 1 1 1 1 1 1 1 1 1 1 1 1 1 1 1 1 1 1 1 1 1 1 1 1 1 1 1 1 1 1 1 1 1 1 1 1 1 1 1 1 1 1 1 1 1 1 1 1 1 1 1 1 1 1 1 1 1 1 1 1 1 1 1 1 1 1 1 1 1 1 1 1 1 1 1 1 1 1 1 1 1 1 1\n",
      "/usr/local/lib/python3.8/dist-packages/transformers/optimization.py:411: FutureWarning: This implementation of AdamW is deprecated and will be removed in a future version. Use the PyTorch implementation torch.optim.AdamW instead, or set `no_deprecation_warning=True` to disable this warning\n",
      "  warnings.warn(\n",
      "07/20/2023 12:09:02 - INFO - __main__ -   ***** Running training *****\n",
      "07/20/2023 12:09:02 - INFO - __main__ -     Num examples = 1184438\n",
      "07/20/2023 12:09:02 - INFO - __main__ -     Batch size = 96\n",
      "07/20/2023 12:09:02 - INFO - __main__ -     Num epoch = 10\n",
      "07/20/2023 12:10:25 - INFO - __main__ -   epoch 0 step 100 loss 1.6785\n",
      "07/20/2023 12:11:47 - INFO - __main__ -   epoch 0 step 200 loss 1.6448\n",
      "07/20/2023 12:13:09 - INFO - __main__ -   epoch 0 step 300 loss 1.575\n",
      "07/20/2023 12:14:31 - INFO - __main__ -   epoch 0 step 400 loss 1.5251\n",
      "07/20/2023 12:15:53 - INFO - __main__ -   epoch 0 step 500 loss 1.4802\n",
      "07/20/2023 12:17:15 - INFO - __main__ -   epoch 0 step 600 loss 1.4231\n",
      "07/20/2023 12:18:37 - INFO - __main__ -   epoch 0 step 700 loss 1.418\n",
      "07/20/2023 12:19:59 - INFO - __main__ -   epoch 0 step 800 loss 1.3942\n",
      "07/20/2023 12:21:21 - INFO - __main__ -   epoch 0 step 900 loss 1.3887\n",
      "07/20/2023 12:22:43 - INFO - __main__ -   epoch 0 step 1000 loss 1.3791\n",
      "07/20/2023 12:24:05 - INFO - __main__ -   epoch 0 step 1100 loss 1.3721\n",
      "07/20/2023 12:25:27 - INFO - __main__ -   epoch 0 step 1200 loss 1.3584\n",
      "07/20/2023 12:26:50 - INFO - __main__ -   epoch 0 step 1300 loss 1.369\n",
      "07/20/2023 12:28:12 - INFO - __main__ -   epoch 0 step 1400 loss 1.3455\n",
      "07/20/2023 12:29:34 - INFO - __main__ -   epoch 0 step 1500 loss 1.3504\n",
      "07/20/2023 12:30:56 - INFO - __main__ -   epoch 0 step 1600 loss 1.3577\n",
      "07/20/2023 12:32:18 - INFO - __main__ -   epoch 0 step 1700 loss 1.3636\n",
      "07/20/2023 12:33:40 - INFO - __main__ -   epoch 0 step 1800 loss 1.3406\n",
      "07/20/2023 12:35:02 - INFO - __main__ -   epoch 0 step 1900 loss 1.3325\n",
      "07/20/2023 12:36:24 - INFO - __main__ -   epoch 0 step 2000 loss 1.3284\n",
      "07/20/2023 12:37:46 - INFO - __main__ -   epoch 0 step 2100 loss 1.3232\n",
      "07/20/2023 12:39:08 - INFO - __main__ -   epoch 0 step 2200 loss 1.3249\n",
      "07/20/2023 12:40:30 - INFO - __main__ -   epoch 0 step 2300 loss 1.3029\n",
      "07/20/2023 12:41:52 - INFO - __main__ -   epoch 0 step 2400 loss 1.3156\n",
      "07/20/2023 12:43:14 - INFO - __main__ -   epoch 0 step 2500 loss 1.3118\n",
      "07/20/2023 12:44:37 - INFO - __main__ -   epoch 0 step 2600 loss 1.293\n",
      "07/20/2023 12:45:59 - INFO - __main__ -   epoch 0 step 2700 loss 1.304\n",
      "07/20/2023 12:47:21 - INFO - __main__ -   epoch 0 step 2800 loss 1.2954\n",
      "07/20/2023 12:48:43 - INFO - __main__ -   epoch 0 step 2900 loss 1.3104\n",
      "07/20/2023 12:50:05 - INFO - __main__ -   epoch 0 step 3000 loss 1.288\n",
      "07/20/2023 12:51:27 - INFO - __main__ -   epoch 0 step 3100 loss 1.2853\n",
      "07/20/2023 12:52:49 - INFO - __main__ -   epoch 0 step 3200 loss 1.297\n",
      "07/20/2023 12:54:11 - INFO - __main__ -   epoch 0 step 3300 loss 1.3008\n",
      "07/20/2023 12:55:33 - INFO - __main__ -   epoch 0 step 3400 loss 1.2933\n",
      "07/20/2023 12:56:55 - INFO - __main__ -   epoch 0 step 3500 loss 1.2746\n"
     ]
    }
   ],
   "source": [
    "# Fine-tuning\n",
    "!cd ./CodeBERT/UniXcoder/downstream-tasks/code-summarization; python3 run.py \\\n",
    "\t--do_train \\\n",
    "\t--do_eval \\\n",
    "\t--model_name_or_path microsoft/unixcoder-base \\\n",
    "\t--train_filename dataset/java/train.jsonl \\\n",
    "\t--dev_filename dataset/java/valid.jsonl \\\n",
    "\t--output_dir saved_models/java \\\n",
    "\t--max_source_length 256 \\\n",
    "\t--max_target_length 128 \\\n",
    "\t--beam_size 10 \\\n",
    "\t--train_batch_size 48 \\\n",
    "\t--eval_batch_size 48 \\\n",
    "\t--learning_rate 5e-5 \\\n",
    "\t--gradient_accumulation_steps 2 \\\n",
    "\t--num_train_epochs 10 "
   ]
  },
  {
   "cell_type": "code",
   "execution_count": 1,
   "id": "6815df4b-28bb-4198-ac5e-7142c6935586",
   "metadata": {},
   "outputs": [
    {
     "name": "stdout",
     "output_type": "stream",
     "text": [
      "07/25/2023 10:41:34 - INFO - __main__ -   device: cuda, n_gpu: 4\n",
      "07/25/2023 10:41:38 - INFO - __main__ -   Training/evaluation parameters Namespace(adam_epsilon=1e-08, beam_size=10, dev_filename=None, device=device(type='cuda'), do_eval=False, do_test=True, do_train=False, eval_batch_size=48, gradient_accumulation_steps=2, learning_rate=5e-05, max_grad_norm=1.0, max_source_length=256, max_target_length=128, model_name_or_path='microsoft/unixcoder-base', n_gpu=4, no_cuda=False, num_train_epochs=10, output_dir='./CodeBERT/UniXcoder/downstream-tasks/code-summarization/saved_models/java', seed=42, test_filename='./CodeBERT/UniXcoder/downstream-tasks/code-summarization/dataset/java/test.jsonl', train_batch_size=48, train_filename=None, weight_decay=0.0)\n",
      "  0%|                                        | 4/1446 [00:40<4:03:56, 10.15s/it]^C\n",
      "  0%|                                        | 4/1446 [00:46<4:42:09, 11.74s/it]\n",
      "Traceback (most recent call last):\n",
      "  File \"./CodeBERT/UniXcoder/downstream-tasks/code-summarization/run.py\", line 432, in <module>\n",
      "    main()\n",
      "  File \"./CodeBERT/UniXcoder/downstream-tasks/code-summarization/run.py\", line 401, in main\n",
      "    preds = model(source_ids)   \n",
      "  File \"/usr/local/lib/python3.8/dist-packages/torch/nn/modules/module.py\", line 1501, in _call_impl\n",
      "    return forward_call(*args, **kwargs)\n",
      "  File \"/usr/local/lib/python3.8/dist-packages/torch/nn/parallel/data_parallel.py\", line 171, in forward\n",
      "    outputs = self.parallel_apply(replicas, inputs, kwargs)\n",
      "  File \"/usr/local/lib/python3.8/dist-packages/torch/nn/parallel/data_parallel.py\", line 181, in parallel_apply\n",
      "    return parallel_apply(replicas, inputs, kwargs, self.device_ids[:len(replicas)])\n",
      "  File \"/usr/local/lib/python3.8/dist-packages/torch/nn/parallel/parallel_apply.py\", line 81, in parallel_apply\n",
      "    thread.join()\n",
      "  File \"/usr/lib/python3.8/threading.py\", line 1011, in join\n",
      "    self._wait_for_tstate_lock()\n",
      "  File \"/usr/lib/python3.8/threading.py\", line 1027, in _wait_for_tstate_lock\n",
      "    elif lock.acquire(block, timeout):\n",
      "KeyboardInterrupt\n"
     ]
    }
   ],
   "source": [
    "# Evaluating\t\n",
    "!python3 ./CodeBERT/UniXcoder/downstream-tasks/code-summarization/run.py \\\n",
    "\t--do_test \\\n",
    "\t--model_name_or_path microsoft/unixcoder-base \\\n",
    "\t--test_filename ./CodeBERT/UniXcoder/downstream-tasks/code-summarization/dataset/java/test.jsonl \\\n",
    "\t--output_dir ./CodeBERT/UniXcoder/downstream-tasks/code-summarization/saved_models/java \\\n",
    "\t--max_source_length 256 \\\n",
    "\t--max_target_length 128 \\\n",
    "\t--beam_size 10 \\\n",
    "\t--train_batch_size 48 \\\n",
    "\t--eval_batch_size 48 \\\n",
    "\t--learning_rate 5e-5 \\\n",
    "\t--gradient_accumulation_steps 2 \\\n",
    "\t--num_train_epochs 10"
   ]
  },
  {
   "cell_type": "code",
   "execution_count": 32,
   "id": "9b283ebf-001c-4558-a0af-af4a7fb1b9a7",
   "metadata": {},
   "outputs": [],
   "source": [
    "import re\n",
    "\n",
    "\n",
    "def split_puncts(line):\n",
    "  return ' '.join(re.findall(r\"[\\w]+|[^\\s\\w]\", line))\n",
    "\n",
    "\n",
    "out_dir = './CodeBERT/UniXcoder/downstream-tasks/code-summarization/saved_models/python'\n",
    "\n",
    "gf = open(f\"{out_dir}/test.gold\", 'r')\n",
    "pf = open(f\"{out_dir}/test.output\", 'r')\n",
    "\n",
    "gold = {}\n",
    "pred = {}\n",
    "\n",
    "for row in pf:\n",
    "    cols = row.strip().split('\\t')\n",
    "    if len(cols) == 1:\n",
    "        (rid, prediction) = (cols[0], '') \n",
    "    else:\n",
    "        (rid, prediction) = (cols[0], cols[1]) \n",
    "    pred[rid] = split_puncts(prediction.strip().lower())\n",
    "\n",
    "for row in gf:\n",
    "    (rid, prediction) = row.split('\\t') \n",
    "    if rid in pred: # Only insert if the id exists for the method\n",
    "        if rid not in gold:\n",
    "            gold[rid] = split_puncts(prediction.strip().lower())"
   ]
  },
  {
   "cell_type": "code",
   "execution_count": 43,
   "id": "f176aaf3-f347-4421-8a65-b40a2a2d34dd",
   "metadata": {},
   "outputs": [
    {
     "name": "stdout",
     "output_type": "stream",
     "text": [
      "#\tpred/gold: value\n",
      "\n",
      "0\tpred: gets the member options\n",
      "0\tgold: get members by name\n",
      "\n",
      "1\tpred: gets the model conf entries\n",
      "1\tgold: insert the mapped classes into the hibernate cfg xml file\n",
      "\n",
      "2\tpred: initializes the table\n",
      "2\tgold: loads the table with the member fields of the class defined in the editing cell\n",
      "\n",
      "3\tpred: checks if the editing cell has a source\n",
      "3\tgold: checks if there is a source file for this cell\n",
      "\n",
      "4\tpred: gets the model conf entries\n",
      "4\tgold: insert the mapped classes into the hibernate cfg xml file\n",
      "\n",
      "5\tpred: creates the page\n",
      "5\tgold: writes the contents of getlayoutsource to the layout output file\n",
      "\n",
      "6\tpred: draws the targets\n",
      "6\tgold: draw all selectable targets\n",
      "\n",
      "7\tpred: draws the scene\n",
      "7\tgold: render the scene and flush the opengl pipeline\n",
      "\n",
      "8\tpred: finds a display mode\n",
      "8\tgold: direct copy from the lwjgl wiki\n",
      "\n",
      "9\tpred: process the game\n",
      "9\tgold: process game logic here in the main finite state machine\n",
      "\n",
      "10\tpred: inital initializes the audio engine\n",
      "10\tgold: initialises openal\n",
      "\n",
      "11\tpred: load ac3d from file\n",
      "11\tgold: loads a 3d mesh from an ac3d file\n",
      "\n",
      "12\tpred: load an ac3d object from a file\n",
      "12\tgold: loads the ac3d model\n",
      "\n",
      "13\tpred: play the targets\n",
      "13\tgold: plays all the audio for each entity terrain\n",
      "\n",
      "14\tpred: prints a banner\n",
      "14\tgold: displays information messages\n",
      "\n",
      "15\tpred: load the configuration\n",
      "15\tgold: loads the configuration from the config file\n",
      "\n",
      "16\tpred: save the configuration\n",
      "16\tgold: saves the configuration to the config file\n",
      "\n",
      "17\tpred: called when a key is released\n",
      "17\tgold: special keys game functions\n",
      "\n",
      "18\tpred: encodes an object\n",
      "18\tgold: encodes an object into json\n",
      "\n",
      "19\tpred: decode the object\n",
      "19\tgold: decodes a json object\n",
      "\n",
      "20\tpred: encodes the specified object to the specified class\n",
      "20\tgold: encodes an object into json using the type of the class informed\n",
      "\n",
      "21\tpred: decode an object of the specified type\n",
      "21\tgold: decodes a json object in a specific type\n",
      "\n",
      "22\tpred: creates a new dice\n",
      "22\tgold: constructs dice using only a number and a base\n",
      "\n",
      "23\tpred: creates a new dice\n",
      "23\tgold: the modifier must also be specified\n",
      "\n",
      "24\tpred: returns the next value\n",
      "24\tgold: gets the next pseudo random value based on the number base and modifier\n",
      "\n",
      "25\tpred: returns the current value\n",
      "25\tgold: gets the current score for this ability\n",
      "\n",
      "26\tpred: adjust the current value\n",
      "26\tgold: add the supplied value to the current score\n",
      "\n",
      "27\tpred: returns the maximum value\n",
      "27\tgold: gets the maximum value for this ability score\n",
      "\n",
      "28\tpred: receive notification of character data inside an element\n",
      "28\tgold: method called to read data between xml tags\n",
      "\n",
      "29\tpred: receive notification of character data inside an element\n",
      "29\tgold: method called to read data between xml tags\n",
      "\n",
      "30\tpred: find nodes by xpath\n",
      "30\tgold: xpath root builder\n",
      "\n",
      "31\tpred: the login page\n",
      "31\tgold: login action the first action for this application\n",
      "\n",
      "32\tpred: sets the name\n",
      "32\tgold: change the name of the xml markup\n",
      "\n",
      "33\tpred: returns the attributes\n",
      "33\tgold: returns the attributs of the xml markups\n",
      "\n",
      "34\tpred: returns an array of elements\n",
      "34\tgold: returns the elements of the xml markups\n",
      "\n",
      "35\tpred: delete a record from the database\n",
      "35\tgold: delete announcementdto\n",
      "\n",
      "36\tpred: read by count post\n",
      "36\tgold: count total posts send to contest\n",
      "\n",
      "37\tpred: creates a new category recipe\n",
      "37\tgold: create new record in category recipe\n",
      "\n",
      "38\tpred: updates an object in the database\n",
      "38\tgold: update category recipe\n",
      "\n",
      "39\tpred: creates a new tip\n",
      "39\tgold: create new tip\n",
      "\n",
      "40\tpred: reads the count feedback for a recipe\n",
      "40\tgold: count total feedback by recipe id\n",
      "\n",
      "41\tpred: creates a new feedback site\n",
      "41\tgold: create feedback for site\n",
      "\n",
      "42\tpred: updates an object in the database\n",
      "42\tgold: update table feedbacksite\n",
      "\n",
      "43\tpred: reads the count tip for a given user\n",
      "43\tgold: count tip post by username\n",
      "\n",
      "44\tpred: reads the count recipe\n",
      "44\tgold: count recipe post by username\n",
      "\n",
      "45\tpred: this adds a property descriptor for the auto increment sample data feature\n",
      "45\tgold: this adds a property descriptor for the auto increment sample data feature\n",
      "\n",
      "46\tpred: this adds a property descriptor for the editable feature\n",
      "46\tgold: this adds a property descriptor for the editable feature\n",
      "\n",
      "47\tpred: this adds a property descriptor for the desc field size feature\n",
      "47\tgold: this adds a property descriptor for the desc field size feature\n",
      "\n",
      "48\tpred: this adds a property descriptor for the name feature\n",
      "48\tgold: this adds a property descriptor for the name feature\n",
      "\n",
      "49\tpred: this adds a property descriptor for the pk fieldname feature\n",
      "49\tgold: this adds a property descriptor for the pk field name feature\n",
      "\n",
      "50\tpred: this adds a property descriptor for the desc field type feature\n",
      "50\tgold: this adds a property descriptor for the desc field type feature\n",
      "\n"
     ]
    }
   ],
   "source": [
    "predictions = list(pred.values())\n",
    "references = list(gold.values())\n",
    "\n",
    "print(f'#\\tpred/gold: value\\n')\n",
    "for i, (p, r) in enumerate(zip(predictions, references)):\n",
    "    print(f'{i}\\tpred: {p}')\n",
    "    print(f'{i}\\tgold: {r}')\n",
    "    print()\n",
    "    if i == 50:\n",
    "        break"
   ]
  },
  {
   "cell_type": "code",
   "execution_count": 36,
   "id": "329aaa9e-475d-4d3e-a05e-ed1850600c34",
   "metadata": {},
   "outputs": [
    {
     "name": "stdout",
     "output_type": "stream",
     "text": [
      "{'rouge1': 0.36335810118371814, 'rouge2': 0.17903848205813427, 'rougeL': 0.3484443081766253, 'rougeLsum': 0.3484442912323825}\n"
     ]
    },
    {
     "name": "stderr",
     "output_type": "stream",
     "text": [
      "[nltk_data] Downloading package wordnet to /root/nltk_data...\n",
      "[nltk_data]   Package wordnet is already up-to-date!\n",
      "[nltk_data] Downloading package punkt to /root/nltk_data...\n",
      "[nltk_data]   Package punkt is already up-to-date!\n",
      "[nltk_data] Downloading package omw-1.4 to /root/nltk_data...\n",
      "[nltk_data]   Package omw-1.4 is already up-to-date!\n"
     ]
    },
    {
     "name": "stdout",
     "output_type": "stream",
     "text": [
      "{'meteor': 0.296884010095024}\n"
     ]
    }
   ],
   "source": [
    "import evaluate\n",
    "\n",
    "# bleu = evaluate.load('bleu')\n",
    "# bleu_res = bleu.compute(predictions=predictions, references=list([r] for r in references))\n",
    "# print(bleu_res)\n",
    "\n",
    "rouge = evaluate.load('rouge')\n",
    "rouge_res = rouge.compute(predictions=predictions, references=references)\n",
    "print(rouge_res)\n",
    "\n",
    "meteor = evaluate.load('meteor')\n",
    "meteor_res = meteor.compute(predictions=predictions, references=references)\n",
    "print(meteor_res)"
   ]
  },
  {
   "cell_type": "markdown",
   "id": "bcb90d9a-0fe4-4be5-8195-8eda4923d177",
   "metadata": {},
   "source": [
    "# CodeT5"
   ]
  },
  {
   "cell_type": "markdown",
   "id": "fa6567a5-171f-4af3-9030-c892d7283acc",
   "metadata": {},
   "source": [
    "## FT"
   ]
  },
  {
   "cell_type": "code",
   "execution_count": 2,
   "id": "f0953fc1-c160-4f97-8493-94cc7473f23e",
   "metadata": {},
   "outputs": [
    {
     "data": {
      "application/vnd.jupyter.widget-view+json": {
       "model_id": "",
       "version_major": 2,
       "version_minor": 0
      },
      "text/plain": [
       "Saving the dataset (0/2 shards):   0%|          | 0/1184438 [00:00<?, ? examples/s]"
      ]
     },
     "metadata": {},
     "output_type": "display_data"
    },
    {
     "data": {
      "application/vnd.jupyter.widget-view+json": {
       "model_id": "",
       "version_major": 2,
       "version_minor": 0
      },
      "text/plain": [
       "Saving the dataset (0/1 shards):   0%|          | 0/69392 [00:00<?, ? examples/s]"
      ]
     },
     "metadata": {},
     "output_type": "display_data"
    },
    {
     "data": {
      "application/vnd.jupyter.widget-view+json": {
       "model_id": "",
       "version_major": 2,
       "version_minor": 0
      },
      "text/plain": [
       "Saving the dataset (0/1 shards):   0%|          | 0/62702 [00:00<?, ? examples/s]"
      ]
     },
     "metadata": {},
     "output_type": "display_data"
    }
   ],
   "source": [
    "# Use only once to have a dataset prepared for fine-tuning\n",
    "funcom.save_to_disk('CodeT5/CodeT5+/cache_data/docstring')"
   ]
  },
  {
   "cell_type": "code",
   "execution_count": 4,
   "id": "f34b8796-7d04-4741-a9b6-209f7e5dcca6",
   "metadata": {},
   "outputs": [
    {
     "name": "stdout",
     "output_type": "stream",
     "text": [
      "/home/user/vladimir/fine-tuning/CodeT5/CodeT5+\n"
     ]
    }
   ],
   "source": [
    "%cd ./CodeT5/CodeT5+"
   ]
  },
  {
   "cell_type": "code",
   "execution_count": 5,
   "id": "d4944a2c-026e-49ce-97c6-03721d14c12d",
   "metadata": {},
   "outputs": [],
   "source": [
    "import os\n",
    "\n",
    "\n",
    "os.environ[\"CUDA_VISIBLE_DEVICES\"] = \"0,1\""
   ]
  },
  {
   "cell_type": "code",
   "execution_count": null,
   "id": "b542ac1e-8292-464a-aa11-c7d1f6230c52",
   "metadata": {},
   "outputs": [],
   "source": [
    "!python3 tune_codet5p_seq2seq.py \\\n",
    "    --load Salesforce/codet5p-770m-py \\\n",
    "    --save-dir saved_models/funcom-770m-py \\\n",
    "    --fp16 \\\n",
    "    --batch-size-per-replica 16"
   ]
  },
  {
   "cell_type": "markdown",
   "id": "cd164f9d-34a1-44d9-aa5a-0303a1af76af",
   "metadata": {},
   "source": [
    "## Eval"
   ]
  },
  {
   "cell_type": "code",
   "execution_count": 7,
   "id": "36a4bf7a-bb6d-49f5-9896-ab5e471ea04e",
   "metadata": {},
   "outputs": [],
   "source": [
    "from transformers import AutoModel, AutoTokenizer, AutoConfig, T5ForConditionalGeneration\n",
    "\n",
    "\n",
    "model_bimodal = 'Salesforce/codet5p-220m-bimodal'  # For tokenizer\n",
    "model_py = 'Salesforce/codet5p-220m-py'  # For tokenizer\n",
    "model_base = 'Salesforce/codet5p-220m'  # For tokenizer\n",
    "model_770py = 'Salesforce/codet5p-770m-py'  # For tokenizer\n",
    "model_checkpoint_bimodal = './CodeT5/CodeT5+/saved_models/funcom-220m-bimodal/checkpoint-222081'\n",
    "model_checkpoint_py = './CodeT5/CodeT5+/saved_models/funcom-220m-py/checkpoint-92533'\n",
    "model_checkpoint_base = './CodeT5/CodeT5+/saved_models/funcom/final_checkpoint'\n",
    "model_checkpoint_770py = './CodeT5/CodeT5+/saved_models/funcom-770m-py/checkpoint-18506'\n",
    "\n",
    "device = 'cuda'"
   ]
  },
  {
   "cell_type": "code",
   "execution_count": 8,
   "id": "43e4dfad-0f25-4b5e-9c44-bcf7885a1eba",
   "metadata": {},
   "outputs": [
    {
     "name": "stderr",
     "output_type": "stream",
     "text": [
      "The argument `trust_remote_code` is to be used with Auto classes. It has no effect here and is ignored.\n"
     ]
    }
   ],
   "source": [
    "tokenizer = AutoTokenizer.from_pretrained(model_770py, trust_remote_code=True)\n",
    "model = T5ForConditionalGeneration.from_pretrained(model_checkpoint_770py).to(device)"
   ]
  },
  {
   "cell_type": "code",
   "execution_count": 10,
   "id": "48f6ef9e-67bd-416b-9533-a17e3df665ed",
   "metadata": {},
   "outputs": [
    {
     "name": "stdout",
     "output_type": "stream",
     "text": [
      "compares the specified object with this map for equality\n"
     ]
    }
   ],
   "source": [
    "code = '''\n",
    "public Statement createStatement() throws SQLException {\\n    // TODO Auto-generated method stub\\n    return connection.createStatement();\\n\n",
    "'''\n",
    "input_ids = tokenizer(code, return_tensors=\"pt\").input_ids.to(device)\n",
    "\n",
    "generated_ids = model.generate(input_ids, max_length=20)\n",
    "print(tokenizer.decode(generated_ids[0], skip_special_tokens=True))"
   ]
  },
  {
   "cell_type": "code",
   "execution_count": null,
   "id": "349234b6-5f1d-45ff-8ce9-85c941b0a6c6",
   "metadata": {},
   "outputs": [],
   "source": [
    "from tqdm import tqdm\n",
    "\n",
    "\n",
    "predictions = []\n",
    "references = []\n",
    "for i, el in enumerate(tqdm(funcom['test'])):\n",
    "    # gold\n",
    "    references.append(el['comment'])\n",
    "    \n",
    "    # pred\n",
    "    input_ids = tokenizer(el['raw_code'], return_tensors=\"pt\").input_ids.to(device)\n",
    "    generated_ids = model.generate(input_ids, max_length=24)\n",
    "    predictions.append(tokenizer.decode(generated_ids[0], skip_special_tokens=True))\n",
    "\n",
    "    # check so that there will be 100 examples\n",
    "    if i % (funcom['test'].num_rows // 100) == 0:\n",
    "        print(f'#\\tpred/gold: value\\n')\n",
    "        print(f'{i}\\tcode: {el[\"raw_code\"]}\\n')\n",
    "        print(f'{i}\\tpred: {predictions[i]}')\n",
    "        print(f'{i}\\tgold: {references[i]}')\n",
    "        print()"
   ]
  },
  {
   "cell_type": "code",
   "execution_count": 12,
   "id": "3fa96c6a-a11d-4104-aa8a-877231f10633",
   "metadata": {},
   "outputs": [
    {
     "data": {
      "text/plain": [
       "(69392, 69392)"
      ]
     },
     "execution_count": 12,
     "metadata": {},
     "output_type": "execute_result"
    }
   ],
   "source": [
    "len(predictions), len(references)"
   ]
  },
  {
   "cell_type": "markdown",
   "id": "a2980044-b46b-49e2-b151-be0e2eb21280",
   "metadata": {},
   "source": [
    "## "
   ]
  },
  {
   "cell_type": "code",
   "execution_count": 13,
   "id": "56fabf2b-c243-4d4e-84c3-6247b45f9df3",
   "metadata": {},
   "outputs": [
    {
     "name": "stderr",
     "output_type": "stream",
     "text": [
      "Using the latest cached version of the module from /root/.cache/huggingface/modules/evaluate_modules/metrics/evaluate-metric--bleu/9e0985c1200e367cce45605ce0ecb5ede079894e0f24f54613fca08eeb8aff76 (last modified on Tue Jul 25 11:16:08 2023) since it couldn't be found locally at evaluate-metric--bleu, or remotely on the Hugging Face Hub.\n"
     ]
    },
    {
     "name": "stdout",
     "output_type": "stream",
     "text": [
      "{'bleu': 0.1701436920175218, 'precisions': [0.457448672243224, 0.2428970984996674, 0.1554776857136035, 0.11777384082420249], 'brevity_penalty': 0.8011160844836617, 'length_ratio': 0.81849844599509, 'translation_length': 473769, 'reference_length': 578827}\n",
      "{'rouge1': 0.41536562102072205, 'rouge2': 0.2184160739059044, 'rougeL': 0.3946957724028466, 'rougeLsum': 0.39469715199054367}\n"
     ]
    },
    {
     "name": "stderr",
     "output_type": "stream",
     "text": [
      "[nltk_data] Error loading wordnet: <urlopen error [Errno 110]\n",
      "[nltk_data]     Connection timed out>\n"
     ]
    },
    {
     "name": "stdout",
     "output_type": "stream",
     "text": [
      "{'meteor': 0.37777312515606365}\n"
     ]
    }
   ],
   "source": [
    "import evaluate\n",
    "\n",
    "\n",
    "bleu = evaluate.load('bleu')\n",
    "bleu_res = bleu.compute(predictions=predictions, references=list([r] for r in references))\n",
    "print(bleu_res)\n",
    "\n",
    "rouge = evaluate.load('rouge')\n",
    "rouge_res = rouge.compute(predictions=predictions, references=references)\n",
    "print(rouge_res)\n",
    "\n",
    "meteor = evaluate.load('meteor')\n",
    "meteor_res = meteor.compute(predictions=predictions, references=references)\n",
    "print(meteor_res)"
   ]
  },
  {
   "cell_type": "markdown",
   "id": "9988fcee-2a0f-4e12-9a88-c66dace017a3",
   "metadata": {},
   "source": [
    "# CodeT5+ results"
   ]
  },
  {
   "cell_type": "markdown",
   "id": "d8af21b9-7fed-4de2-8e24-3aff76f0d491",
   "metadata": {},
   "source": [
    "### 220m-bimodal (6/10 epochs)\n",
    "\n",
    "- {'bleu': 0.1708948648031588, 'precisions': [0.4539577510315061, 0.24046342942727353, 0.1568107642832379, 0.12151529539442447], 'brevity_penalty': 0.8002232955940993, 'length_ratio': 0.8177521090066635, 'translation_length': 473337, 'reference_length': 578827}\n",
    "- {'rouge1': 0.4117809093295627, 'rouge2': 0.21480252201675917, 'rougeL': 0.3914078371927468, 'rougeLsum': 0.391331784188354}\n",
    "- {'meteor': 0.35906366932967804}\n",
    "\n",
    "### 220m-py (5/10 epochs)\n",
    "\n",
    "- {'bleu': 0.16888687531971716, 'precisions': [0.4591991467160132, 0.24386807879047068, 0.15730785518647042, 0.12047881169467842], 'brevity_penalty': 0.7868494073330955, 'length_ratio': 0.806634797616559, 'translation_length': 466902, 'reference_length': 578827}\n",
    "- {'rouge1': 0.41237888815463664, 'rouge2': 0.21575215828712113, 'rougeL': 0.39230280233523096, 'rougeLsum': 0.3922669791691962\n",
    "- {'meteor': 0.35925929136780727}\n",
    "\n",
    "### 220m (10/10 epochs)\n",
    "\n",
    "- {'bleu': 0.17972468391315713, 'precisions': [0.45334796926454446, 0.2445294489815212, 0.16279042662921545, 0.12923030902186244], 'brevity_penalty': 0.8178406754319052, 'length_ratio': 0.8325786461239714, 'translation_length': 481919, 'reference_length': 578827}\n",
    " \n",
    "{'rouge1': 0.41409766334909537, 'rouge2': 0.2200826547218264, 'rougeL': 0.39304945843488065, 'rougeLsum': 0.3930190906108022\n",
    " \n",
    "{'meteor': 0.379077269913916\n",
    "\n",
    "### 770m-py (3/10 epochs)\n",
    "\n",
    "- {'bleu': 0.1701436920175218, 'precisions': [0.457448672243224, 0.2428970984996674, 0.1554776857136035, 0.11777384082420249], 'brevity_penalty': 0.8011160844836617, 'length_ratio': 0.81849844599509, 'translation_length': 473769, 'reference_length': 578827}\n",
    "- {'rouge1': 0.41536562102072205, 'rouge2': 0.2184160739059044, 'rougeL': 0.3946957724028466, 'rougeLsum': 0.39469715199054367}\n",
    "- {'meteor': 0.37777312515606365}}}"
   ]
  },
  {
   "cell_type": "markdown",
   "id": "52f7bd99-6eac-41f6-9771-0fa9468c6e9b",
   "metadata": {
    "jp-MarkdownHeadingCollapsed": true
   },
   "source": [
    "## Prepare dataset"
   ]
  },
  {
   "cell_type": "code",
   "execution_count": 23,
   "id": "5c5c382b-d0d8-4acc-9c3d-5bd397788cf6",
   "metadata": {},
   "outputs": [],
   "source": [
    "from pathlib import Path\n",
    "from tqdm import tqdm\n",
    "\n",
    "\n",
    "def prepare_dataset(dataset):\n",
    "    data_dir = './SPT-Code/data/fine_tune/summarization/java'\n",
    "    Path(data_dir).mkdir(parents=True, exist_ok=True)\n",
    "    \n",
    "    for dataset_type in ['train', 'valid', 'test']:\n",
    "        Path(f\"{data_dir}/{dataset_type}\").mkdir(parents=True, exist_ok=True)\n",
    "        print(dataset_type)\n",
    "        if not Path(f\"{data_dir}/{dataset_type}/source.code\").exists():\n",
    "            with open(f\"{data_dir}/{dataset_type}/source.code\", 'w') as f:\n",
    "                for el in tqdm(dataset[dataset_type]):\n",
    "                    f.write(el['raw_code'].replace('\\n', '\\\\n') + '\\n')\n",
    "        with open(f\"{data_dir}/{dataset_type}/token.code\", 'w') as f:\n",
    "            for el in tqdm(dataset[dataset_type]):\n",
    "                f.write(el['code_tokens'] + '\\n')\n",
    "        with open(f\"{data_dir}/{dataset_type}/token.docstring\", 'w') as f:\n",
    "            for el in tqdm(dataset[dataset_type]):\n",
    "                f.write(el['docstring_tokens'] + '\\n')"
   ]
  },
  {
   "cell_type": "code",
   "execution_count": 24,
   "id": "603697b9-6dc0-4d14-a1ba-93d3168c7060",
   "metadata": {},
   "outputs": [
    {
     "name": "stderr",
     "output_type": "stream",
     "text": [
      "  0%|          | 190/1184438 [00:00<10:23, 1898.42it/s]"
     ]
    },
    {
     "name": "stdout",
     "output_type": "stream",
     "text": [
      "train\n"
     ]
    },
    {
     "name": "stderr",
     "output_type": "stream",
     "text": [
      "100%|██████████| 1184438/1184438 [05:53<00:00, 3349.38it/s]\n",
      "100%|██████████| 1184438/1184438 [05:49<00:00, 3391.95it/s]\n",
      "  0%|          | 307/62702 [00:00<00:20, 3057.55it/s]"
     ]
    },
    {
     "name": "stdout",
     "output_type": "stream",
     "text": [
      "valid\n"
     ]
    },
    {
     "name": "stderr",
     "output_type": "stream",
     "text": [
      "100%|██████████| 62702/62702 [00:18<00:00, 3343.25it/s]\n",
      "100%|██████████| 62702/62702 [00:18<00:00, 3372.10it/s]\n",
      "100%|██████████| 62702/62702 [00:18<00:00, 3381.17it/s]\n",
      "  0%|          | 308/69392 [00:00<00:22, 3077.83it/s]"
     ]
    },
    {
     "name": "stdout",
     "output_type": "stream",
     "text": [
      "test\n"
     ]
    },
    {
     "name": "stderr",
     "output_type": "stream",
     "text": [
      "100%|██████████| 69392/69392 [00:20<00:00, 3371.31it/s]\n",
      "100%|██████████| 69392/69392 [00:20<00:00, 3376.49it/s]\n",
      "100%|██████████| 69392/69392 [00:20<00:00, 3397.27it/s]\n"
     ]
    }
   ],
   "source": [
    "prepare_dataset(funcom)"
   ]
  },
  {
   "cell_type": "markdown",
   "id": "7b39b655-c982-42ad-a8fb-67d8c4d91bc1",
   "metadata": {},
   "source": [
    "## Fine-tine"
   ]
  },
  {
   "cell_type": "code",
   "execution_count": 5,
   "id": "a67b4d08-6341-4561-867f-01dc7af45bcb",
   "metadata": {},
   "outputs": [
    {
     "name": "stdout",
     "output_type": "stream",
     "text": [
      "/home/user/vladimir/fine-tuning/SPT-Code/sources\n"
     ]
    }
   ],
   "source": [
    "%cd SPT-Code/sources/"
   ]
  },
  {
   "cell_type": "code",
   "execution_count": 9,
   "id": "af64787a-16e6-4113-a372-1efb5556cb81",
   "metadata": {},
   "outputs": [
    {
     "name": "stdout",
     "output_type": "stream",
     "text": [
      "Traceback (most recent call last):\n",
      "  File \"main.py\", line 13, in <module>\n",
      "    from train import train\n",
      "  File \"/home/user/vladimir/fine-tuning/SPT-Code/sources/train.py\", line 8, in <module>\n",
      "    from downstream_tasks.summarization import run_summarization\n",
      "  File \"/home/user/vladimir/fine-tuning/SPT-Code/sources/downstream_tasks/summarization.py\", line 10, in <module>\n",
      "    from data.dataset import init_dataset\n",
      "  File \"/home/user/vladimir/fine-tuning/SPT-Code/sources/data/dataset.py\", line 11, in <module>\n",
      "    from .data_utils import load_dataset_from_dir, \\\n",
      "  File \"/home/user/vladimir/fine-tuning/SPT-Code/sources/data/data_utils.py\", line 11, in <module>\n",
      "    from .asts.ast_parser import generate_single_ast_nl, split_identifier\n",
      "  File \"/home/user/vladimir/fine-tuning/SPT-Code/sources/data/asts/ast_parser.py\", line 2, in <module>\n",
      "    import tree_sitter\n",
      "ModuleNotFoundError: No module named 'tree_sitter'\n"
     ]
    }
   ],
   "source": [
    "# summarization on pre-trained model and vocab\n",
    "!python3 main.py \\\n",
    "    --do-fine-tune \\\n",
    "    --task summarization \\\n",
    "    --summarization-language java \\\n",
    "    --model-name sptcode \\\n",
    "    --trained_vocab '../pre_trained/vocabs/' \\\n",
    "    --trained_model '../pre_trained/models/all/'"
   ]
  },
  {
   "cell_type": "code",
   "execution_count": null,
   "id": "9d5340a2-a8a0-4a6f-8818-c90b66106296",
   "metadata": {},
   "outputs": [],
   "source": [
    "import pandas as pd\n",
    "\n",
    "obj = pd.read_pickle(r'./SPT-Code/data/dataset_saved/fine_tune.summarization.python.test.pk')"
   ]
  },
  {
   "cell_type": "code",
   "execution_count": null,
   "id": "ced03243-006a-4d9d-8bec-3759e8dee7dc",
   "metadata": {},
   "outputs": [],
   "source": [
    "import pickle\n",
    "\n",
    "path = 'SPT-Code/data/dataset_saved/fine_tune.summarization.python.test.pk'\n",
    "\n",
    "with open(path, mode='rb') as f:\n",
    "    obj = pickle.load(f)\n",
    "\n",
    "obj"
   ]
  },
  {
   "cell_type": "code",
   "execution_count": 5,
   "id": "b80a3a41-a1de-4903-8176-4550b5b02168",
   "metadata": {},
   "outputs": [],
   "source": [
    "import logging\n",
    "import re\n",
    "import regex\n",
    "import copy"
   ]
  },
  {
   "cell_type": "code",
   "execution_count": 6,
   "id": "99e20287-aea8-48b1-84ed-ae2fce26a4f8",
   "metadata": {},
   "outputs": [],
   "source": [
    "#!/usr/bin/env python3\n",
    "# Copyright 2017-present, Facebook, Inc.\n",
    "# All rights reserved.\n",
    "#\n",
    "# This source code is licensed under the license found in the\n",
    "# LICENSE file in the root directory of this source tree.\n",
    "\"\"\"Base tokenizer/tokens classes and utilities.\"\"\"\n",
    "\n",
    "class Tokens(object):\n",
    "    \"\"\"A class to represent a list of tokenized text.\"\"\"\n",
    "    TEXT = 0\n",
    "    TEXT_WS = 1\n",
    "    SPAN = 2\n",
    "    POS = 3\n",
    "    LEMMA = 4\n",
    "    NER = 5\n",
    "\n",
    "    def __init__(self, data, annotators, opts=None):\n",
    "        self.data = data\n",
    "        self.annotators = annotators\n",
    "        self.opts = opts or {}\n",
    "\n",
    "    def __len__(self):\n",
    "        \"\"\"The number of tokens.\"\"\"\n",
    "        return len(self.data)\n",
    "\n",
    "    def slice(self, i=None, j=None):\n",
    "        \"\"\"Return a view of the list of tokens from [i, j).\"\"\"\n",
    "        new_tokens = copy.copy(self)\n",
    "        new_tokens.data = self.data[i: j]\n",
    "        return new_tokens\n",
    "\n",
    "    def untokenize(self):\n",
    "        \"\"\"Returns the original text (with whitespace reinserted).\"\"\"\n",
    "        return ''.join([t[self.TEXT_WS] for t in self.data]).strip()\n",
    "\n",
    "    def words(self, uncased=False):\n",
    "        \"\"\"Returns a list of the text of each token\n",
    "        Args:\n",
    "            uncased: lower cases text\n",
    "        \"\"\"\n",
    "        if uncased:\n",
    "            return [t[self.TEXT].lower() for t in self.data]\n",
    "        else:\n",
    "            return [t[self.TEXT] for t in self.data]\n",
    "\n",
    "    def offsets(self):\n",
    "        \"\"\"Returns a list of [start, end) character offsets of each token.\"\"\"\n",
    "        return [t[self.SPAN] for t in self.data]\n",
    "\n",
    "    def pos(self):\n",
    "        \"\"\"Returns a list of part-of-speech tags of each token.\n",
    "        Returns None if this annotation was not included.\n",
    "        \"\"\"\n",
    "        if 'pos' not in self.annotators:\n",
    "            return None\n",
    "        return [t[self.POS] for t in self.data]\n",
    "\n",
    "    def lemmas(self):\n",
    "        \"\"\"Returns a list of the lemmatized text of each token.\n",
    "        Returns None if this annotation was not included.\n",
    "        \"\"\"\n",
    "        if 'lemma' not in self.annotators:\n",
    "            return None\n",
    "        return [t[self.LEMMA] for t in self.data]\n",
    "\n",
    "    def entities(self):\n",
    "        \"\"\"Returns a list of named-entity-recognition tags of each token.\n",
    "        Returns None if this annotation was not included.\n",
    "        \"\"\"\n",
    "        if 'ner' not in self.annotators:\n",
    "            return None\n",
    "        return [t[self.NER] for t in self.data]\n",
    "\n",
    "    def ngrams(self, n=1, uncased=False, filter_fn=None, as_strings=True):\n",
    "        \"\"\"Returns a list of all ngrams from length 1 to n.\n",
    "        Args:\n",
    "            n: upper limit of ngram length\n",
    "            uncased: lower cases text\n",
    "            filter_fn: user function that takes in an ngram list and returns\n",
    "              True or False to keep or not keep the ngram\n",
    "            as_string: return the ngram as a string vs list\n",
    "        \"\"\"\n",
    "\n",
    "        def _skip(gram):\n",
    "            if not filter_fn:\n",
    "                return False\n",
    "            return filter_fn(gram)\n",
    "\n",
    "        words = self.words(uncased)\n",
    "        ngrams = [(s, e + 1)\n",
    "                  for s in range(len(words))\n",
    "                  for e in range(s, min(s + n, len(words)))\n",
    "                  if not _skip(words[s:e + 1])]\n",
    "\n",
    "        # Concatenate into strings\n",
    "        if as_strings:\n",
    "            ngrams = ['{}'.format(' '.join(words[s:e])) for (s, e) in ngrams]\n",
    "\n",
    "        return ngrams\n",
    "\n",
    "    def entity_groups(self):\n",
    "        \"\"\"Group consecutive entity tokens with the same NER tag.\"\"\"\n",
    "        entities = self.entities()\n",
    "        if not entities:\n",
    "            return None\n",
    "        non_ent = self.opts.get('non_ent', 'O')\n",
    "        groups = []\n",
    "        idx = 0\n",
    "        while idx < len(entities):\n",
    "            ner_tag = entities[idx]\n",
    "            # Check for entity tag\n",
    "            if ner_tag != non_ent:\n",
    "                # Chomp the sequence\n",
    "                start = idx\n",
    "                while idx < len(entities) and entities[idx] == ner_tag:\n",
    "                    idx += 1\n",
    "                groups.append((self.slice(start, idx).untokenize(), ner_tag))\n",
    "            else:\n",
    "                idx += 1\n",
    "        return groups\n",
    "\n",
    "\n",
    "class Tokenizer(object):\n",
    "    \"\"\"Base tokenizer class.\n",
    "    Tokenizers implement tokenize, which should return a Tokens class.\n",
    "    \"\"\"\n",
    "\n",
    "    def tokenize(self, text):\n",
    "        raise NotImplementedError\n",
    "\n",
    "    def shutdown(self):\n",
    "        pass\n",
    "\n",
    "    def __del__(self):\n",
    "        self.shutdown()"
   ]
  },
  {
   "cell_type": "code",
   "execution_count": 7,
   "id": "3b2fe460-9495-4000-a7b9-a36da7ae0f6f",
   "metadata": {},
   "outputs": [],
   "source": [
    "#!/usr/bin/env python3\n",
    "# Copyright 2017-present, Facebook, Inc.\n",
    "# All rights reserved.\n",
    "#\n",
    "# This source code is licensed under the license found in the\n",
    "# LICENSE file in the root directory of this source tree.\n",
    "\"\"\"Basic tokenizer that splits text into alpha-numeric tokens and\n",
    "non-whitespace tokens.\n",
    "\"\"\"\n",
    "\n",
    "logger = logging.getLogger(__name__)\n",
    "\n",
    "\n",
    "class SimpleTokenizer(Tokenizer):\n",
    "    ALPHA_NUM = r'[\\p{L}\\p{N}\\p{M}]+'\n",
    "    NON_WS = r'[^\\p{Z}\\p{C}]'\n",
    "\n",
    "    def __init__(self, **kwargs):\n",
    "        \"\"\"\n",
    "        Args:\n",
    "            annotators: None or empty set (only tokenizes).\n",
    "        \"\"\"\n",
    "        self._regexp = regex.compile(\n",
    "            '(%s)|(%s)' % (self.ALPHA_NUM, self.NON_WS),\n",
    "            flags=regex.IGNORECASE + regex.UNICODE + regex.MULTILINE\n",
    "        )\n",
    "        if len(kwargs.get('annotators', {})) > 0:\n",
    "            logger.warning('%s only tokenizes! Skipping annotators: %s' %\n",
    "                           (type(self).__name__, kwargs.get('annotators')))\n",
    "        self.annotators = set()\n",
    "\n",
    "    def tokenize(self, text):\n",
    "        data = []\n",
    "        matches = [m for m in self._regexp.finditer(text)]\n",
    "        for i in range(len(matches)):\n",
    "            # Get text\n",
    "            token = matches[i].group()\n",
    "\n",
    "            # Get whitespace\n",
    "            span = matches[i].span()\n",
    "            start_ws = span[0]\n",
    "            if i + 1 < len(matches):\n",
    "                end_ws = matches[i + 1].span()[0]\n",
    "            else:\n",
    "                end_ws = span[1]\n",
    "\n",
    "            # Format data\n",
    "            data.append((\n",
    "                token,\n",
    "                text[start_ws: end_ws],\n",
    "                span,\n",
    "            ))\n",
    "        return Tokens(data, self.annotators)"
   ]
  },
  {
   "cell_type": "code",
   "execution_count": 8,
   "id": "e80ba16f-f702-4265-ab86-86094929a918",
   "metadata": {},
   "outputs": [],
   "source": [
    "#!/usr/bin/env python3\n",
    "# Author : Saikat Chakraborty (saikatc@cs.columbia.edu)\n",
    "# This source code is licensed under the license found in the\n",
    "# LICENSE file in the root directory of this source tree.\n",
    "\"\"\"Basic tokenizer that splits text into alpha-numeric tokens and\n",
    "non-whitespace tokens.\n",
    "\"\"\"\n",
    "\n",
    "logger = logging.getLogger(__name__)\n",
    "\n",
    "\n",
    "def tokenize_with_camel_case(token):\n",
    "    matches = re.finditer('.+?(?:(?<=[a-z])(?=[A-Z])|(?<=[A-Z])(?=[A-Z][a-z])|$)', token)\n",
    "    return [m.group(0) for m in matches]\n",
    "\n",
    "\n",
    "def tokenize_with_snake_case(token):\n",
    "    return token.split('_')\n",
    "\n",
    "\n",
    "class CodeTokenizer(Tokenizer):\n",
    "    def __init__(self, camel_case=True, snake_case=True, **kwargs):\n",
    "        \"\"\"\n",
    "        Args:\n",
    "            camel_case: Boolean denoting whether CamelCase split is desired\n",
    "            snake_case: Boolean denoting whether snake_case split is desired\n",
    "            annotators: None or empty set (only tokenizes).\n",
    "        \"\"\"\n",
    "        super(CodeTokenizer, self).__init__()\n",
    "        self.snake_case = snake_case\n",
    "        self.camel_case = camel_case\n",
    "        assert self.snake_case or self.camel_case, \\\n",
    "            'To call CodeIdentifierTokenizer at least one of camel_case or ' \\\n",
    "            'snake_case flag has to be turned on in the initializer'\n",
    "        if len(kwargs.get('annotators', {})) > 0:\n",
    "            logger.warning('%s only tokenizes! Skipping annotators: %s' %\n",
    "                           (type(self).__name__, kwargs.get('annotators')))\n",
    "        self.annotators = set()\n",
    "\n",
    "    def tokenize(self, text):\n",
    "        tokens = text.split()\n",
    "        snake_case_tokenized = []\n",
    "        if self.snake_case:\n",
    "            for token in tokens:\n",
    "                snake_case_tokenized.extend(tokenize_with_snake_case(token))\n",
    "        else:\n",
    "            snake_case_tokenized = tokens\n",
    "        camel_case_tokenized = []\n",
    "        if self.camel_case:\n",
    "            for token in snake_case_tokenized:\n",
    "                camel_case_tokenized.extend(tokenize_with_camel_case(token))\n",
    "        else:\n",
    "            camel_case_tokenized = snake_case_tokenized\n",
    "        data = []\n",
    "        for token in camel_case_tokenized:\n",
    "            data.append((token, token, token))\n",
    "\n",
    "        return Tokens(data, self.annotators)"
   ]
  },
  {
   "cell_type": "code",
   "execution_count": 9,
   "id": "67e612fa-8cf3-4de6-9914-bb5c170a83dd",
   "metadata": {},
   "outputs": [],
   "source": [
    "import re\n",
    "\n",
    "\n",
    "st = SimpleTokenizer()\n",
    "ct = CodeTokenizer()\n",
    "CONCAT_PUNCTUATION = '!=<>&|/+-*^'\n",
    "\n",
    "# Source: https://stackoverflow.com/questions/2319019/using-regex-to-remove-comments-from-source-files\n",
    "def _remove_comments(string):\n",
    "    pattern = r\"(\\\".*?\\\"|\\'.*?\\')|(/\\*.*?\\*/|//[^\\r\\n]*$)\"\n",
    "    # first group captures quoted strings (double or single)\n",
    "    # second group captures comments (//single-line or /* multi-line */)\n",
    "    regex = re.compile(pattern, re.MULTILINE|re.DOTALL)\n",
    "    def _replacer(match):\n",
    "        # if the 2nd group (capturing comments) is not None,\n",
    "        # it means we have captured a non-quoted (real) comment string.\n",
    "        if match.group(2) is not None:\n",
    "            return \"\" # so we will return empty to remove the comment\n",
    "        else: # otherwise, we will return the 1st group\n",
    "            return match.group(1) # captured quoted-string\n",
    "    return regex.sub(_replacer, string)\n",
    "\n",
    "def remove_comments(batch):\n",
    "    strings = batch['raw_code']\n",
    "    strings = [_remove_comments(s) for s in strings]\n",
    "    return {**batch, 'code_cleaned': strings}\n",
    "\n",
    "def remove_spaces_between_characters(string, characters):\n",
    "    pattern = r'([' + re.escape(characters) + r'])\\s([' + re.escape(characters) + r'])'\n",
    "    replacement = r'\\1\\2'\n",
    "    result = re.sub(pattern, replacement, string)\n",
    "    return result\n",
    "\n",
    "def tokenize_code(batch):\n",
    "    batch = remove_comments(batch)\n",
    "    codes = batch['code_cleaned']\n",
    "    strs = []\n",
    "    for code in codes:\n",
    "        code = ' '.join(st.tokenize(code).words())\n",
    "        code = ' '.join(ct.tokenize(code).words())\n",
    "        code = remove_spaces_between_characters(code, CONCAT_PUNCTUATION)\n",
    "        strs.append(code)\n",
    "    return {**batch, 'code_tokenized': strs}"
   ]
  },
  {
   "cell_type": "code",
   "execution_count": null,
   "id": "009a5ecd-5802-4ab0-b812-509f2c658c5b",
   "metadata": {},
   "outputs": [],
   "source": [
    "funcom.set_transform(tokenize_code)\n",
    "funcom['train'][491]"
   ]
  },
  {
   "cell_type": "code",
   "execution_count": null,
   "id": "0cfbd1d6-3b25-449e-aca2-7fa79116c063",
   "metadata": {},
   "outputs": [],
   "source": []
  }
 ],
 "metadata": {
  "kernelspec": {
   "display_name": "vladimir-torch",
   "language": "python",
   "name": "vladimir-torch"
  },
  "language_info": {
   "codemirror_mode": {
    "name": "ipython",
    "version": 3
   },
   "file_extension": ".py",
   "mimetype": "text/x-python",
   "name": "python",
   "nbconvert_exporter": "python",
   "pygments_lexer": "ipython3",
   "version": "3.10.12"
  }
 },
 "nbformat": 4,
 "nbformat_minor": 5
}
